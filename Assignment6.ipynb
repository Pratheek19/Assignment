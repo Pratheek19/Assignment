{
  "nbformat": 4,
  "nbformat_minor": 0,
  "metadata": {
    "colab": {
      "provenance": [],
      "authorship_tag": "ABX9TyN6YMmoR9NlVsNkV2USI9pW",
      "include_colab_link": true
    },
    "kernelspec": {
      "name": "python3",
      "display_name": "Python 3"
    },
    "language_info": {
      "name": "python"
    }
  },
  "cells": [
    {
      "cell_type": "markdown",
      "metadata": {
        "id": "view-in-github",
        "colab_type": "text"
      },
      "source": [
        "<a href=\"https://colab.research.google.com/github/Pratheek19/Assignment/blob/main/Assignment6.ipynb\" target=\"_parent\"><img src=\"https://colab.research.google.com/assets/colab-badge.svg\" alt=\"Open In Colab\"/></a>"
      ]
    },
    {
      "cell_type": "markdown",
      "source": [
        "Q.1. What are keywords in python? Using the keyword library, print all the python keywords.\n",
        "\n",
        "ANS:\n",
        "\n",
        "Keywords in Python are reserved words that can not be used as a variable name, function name, or any other identifier.\n"
      ],
      "metadata": {
        "id": "Vic1UjNzPN_h"
      }
    },
    {
      "cell_type": "code",
      "source": [
        "import keyword\n",
        "all_key_words = keyword.kwlist\n",
        "print(all_key_words)"
      ],
      "metadata": {
        "colab": {
          "base_uri": "https://localhost:8080/"
        },
        "id": "ML3y638gQlx_",
        "outputId": "f12b3eff-eb87-4949-bce1-6fdaece550cd"
      },
      "execution_count": 2,
      "outputs": [
        {
          "output_type": "stream",
          "name": "stdout",
          "text": [
            "['False', 'None', 'True', 'and', 'as', 'assert', 'async', 'await', 'break', 'class', 'continue', 'def', 'del', 'elif', 'else', 'except', 'finally', 'for', 'from', 'global', 'if', 'import', 'in', 'is', 'lambda', 'nonlocal', 'not', 'or', 'pass', 'raise', 'return', 'try', 'while', 'with', 'yield']\n"
          ]
        }
      ]
    },
    {
      "cell_type": "markdown",
      "source": [
        "Q.2. What are the rules to create variables in python?\n",
        "\n",
        "ANS:\n",
        "\n",
        "Variable name cannot start with numbers.\n",
        "Variables name must only start with letters and underscore only.\n",
        "Variables cannot use reserverd keywords.\n",
        "Variables should avoid built in names (print,list,str ..etc)\n"
      ],
      "metadata": {
        "id": "jUDeAjwbQ4pO"
      }
    },
    {
      "cell_type": "markdown",
      "source": [
        "Q.3. What are the standards and conventions followed for the nomenclature of variables in\n",
        "python to improve code readability and maintainability?\n",
        "\n",
        "ANS:\n",
        "\n",
        "1- Snake Case: Use snake_case for variable names, which means using all lowercase letters with words separated by underscores.\n",
        "\n",
        "2- Meaningful and Descriptive Names:  \n",
        "\n",
        "3- Avoiding Single-Letter Names:\n",
        "\n",
        "4- Using Constants in UPPERCASE:\n",
        "\n",
        "5- Avoiding Reserved Keywords\n",
        "\n",
        "6- Avoiding Ambiguous Names: data, value..etc\n"
      ],
      "metadata": {
        "id": "W9ajv__4RqB8"
      }
    },
    {
      "cell_type": "markdown",
      "source": [
        "Q.4. What will happen if a keyword is used as a variable name?\n",
        "\n",
        "ANS:\n",
        "\n",
        "We get Syntax error : cannot assign to True or anyother keyword as variable."
      ],
      "metadata": {
        "id": "gsKPH0O5Skai"
      }
    },
    {
      "cell_type": "code",
      "source": [
        "True = 3\n",
        "b = 4\n",
        "\n",
        "print(True + b)"
      ],
      "metadata": {
        "colab": {
          "base_uri": "https://localhost:8080/",
          "height": 130
        },
        "id": "LM51ZdRbSptD",
        "outputId": "766678cf-eaec-42e6-91b8-edf2016dc02c"
      },
      "execution_count": 6,
      "outputs": [
        {
          "output_type": "error",
          "ename": "SyntaxError",
          "evalue": "ignored",
          "traceback": [
            "\u001b[0;36m  File \u001b[0;32m\"<ipython-input-6-c5a13aa8f0a2>\"\u001b[0;36m, line \u001b[0;32m1\u001b[0m\n\u001b[0;31m    True = 3\u001b[0m\n\u001b[0m    ^\u001b[0m\n\u001b[0;31mSyntaxError\u001b[0m\u001b[0;31m:\u001b[0m cannot assign to True\n"
          ]
        }
      ]
    },
    {
      "cell_type": "markdown",
      "source": [
        "Q.5. For what purpose def keyword is used?\n",
        "\n",
        "ANS:\n",
        "\n",
        "The def keyword in Python is used to define user-defined functions.  \n",
        "By defining functions, you can break down your code into smaller, more manageable pieces, making it easier to read, understand, and maintain."
      ],
      "metadata": {
        "id": "qjQgnLPSTKd4"
      }
    },
    {
      "cell_type": "markdown",
      "source": [
        "Q.6. What is the operation of this special character ‘\\’?\n",
        "\n",
        "ANS:\n",
        "Escape Sequences:\n",
        "\n",
        "\\n - Next line\n",
        "\n",
        "\\t - tab space\n",
        "\n",
        " \\\\ - This is a backlash\n",
        "\n",
        " Line Continuation: backslash can be used to continue long statemts to next line.\n",
        "\n",
        "\n",
        "\n",
        "\n"
      ],
      "metadata": {
        "id": "WZYZAzaTTi3B"
      }
    },
    {
      "cell_type": "markdown",
      "source": [
        "Q.7. Give an example of the following conditions:\n",
        "(i) Homogeneous list\n",
        "(ii) Heterogeneous set\n",
        "(iii) Homogeneous tuple\n",
        "\n",
        "ANS:\n",
        "\n",
        "(i) Homogeneous List: A homogeneous list is a list in which all elements have the same data type\n",
        "\n",
        "(ii) Heterogeneous Set: A heterogeneous set is a set that can contain elements of different data types.\n",
        "\n",
        "(iii) Homogeneous Tuple: A homogeneous tuple is a tuple in which all elements have the same data type.\n"
      ],
      "metadata": {
        "id": "VTxeYgpPilwq"
      }
    },
    {
      "cell_type": "code",
      "source": [
        "homogeneous_list = [1, 2, 3, 4, 5]\n",
        "heterogeneous_set = {1, \"apple\", True}\n",
        "homogeneous_tuple = (\"apple\", \"banana\", \"cherry\")\n",
        "\n",
        "print( ' homogeneous_list: ', homogeneous_list ,'\\n','heterogeneous_set: ',heterogeneous_set,'\\n','homogeneous_tuple: ',homogeneous_tuple )"
      ],
      "metadata": {
        "colab": {
          "base_uri": "https://localhost:8080/"
        },
        "id": "xQHLTsfkjB9S",
        "outputId": "7cfdfb9b-f76f-404e-ff49-973d9aa36a8f"
      },
      "execution_count": 17,
      "outputs": [
        {
          "output_type": "stream",
          "name": "stdout",
          "text": [
            " homogeneous_list:  [1, 2, 3, 4, 5] \n",
            " heterogeneous_set:  {1, 'apple'} \n",
            " homogeneous_tuple:  ('apple', 'banana', 'cherry')\n"
          ]
        }
      ]
    },
    {
      "cell_type": "markdown",
      "source": [
        "Q.8. Explain the mutable and immutable data types with proper explanation & examples.\n",
        "\n",
        "ANS:\n",
        "\n",
        "Mutable:-Mutable data types are objects whose values can be changed after they are created. When you modify a mutable object, you are modifying the same object in memory, and any variable that references that object will reflect the changes.  Lists are mutable.\n",
        "\n",
        "Immutable:Immutable data types are objects whose values cannot be changed after they are created. When you modify an immutable object, you are creating a new object in memory with the modified value.  Tuples,strings are Immutable.\n",
        "\n",
        "Example:\n",
        "\n"
      ],
      "metadata": {
        "id": "a-59s6jgj2K_"
      }
    },
    {
      "cell_type": "code",
      "source": [
        "# Creating a list for Mutable Example\n",
        "my_list = [1, 2, 3]\n",
        "\n",
        "# Modifying the list (mutable behavior)\n",
        "my_list[0] = 10\n",
        "print(my_list)  # Output: [10, 2, 3]"
      ],
      "metadata": {
        "colab": {
          "base_uri": "https://localhost:8080/"
        },
        "id": "9QLYbtRkkeeO",
        "outputId": "9b4a421d-6526-40c7-af56-ec628b20fc96"
      },
      "execution_count": 18,
      "outputs": [
        {
          "output_type": "stream",
          "name": "stdout",
          "text": [
            "[10, 2, 3]\n"
          ]
        }
      ]
    },
    {
      "cell_type": "code",
      "source": [
        "# Creating a string for Immutable Example\n",
        "my_string = \"Hello\"\n",
        "\n",
        "# Modifying the string (immutable behavior)\n",
        "new_string = my_string + \" World\"\n",
        "print(my_string)  # Output: Hello\n",
        "print(new_string) # Output: Hello World"
      ],
      "metadata": {
        "colab": {
          "base_uri": "https://localhost:8080/"
        },
        "id": "Rz2tc-Idkj6t",
        "outputId": "7d73c91c-8297-48df-85d5-4f02ee8e9b24"
      },
      "execution_count": 19,
      "outputs": [
        {
          "output_type": "stream",
          "name": "stdout",
          "text": [
            "Hello\n",
            "Hello World\n"
          ]
        }
      ]
    },
    {
      "cell_type": "markdown",
      "source": [
        "Q.9. Write a code to create the given structure using only for loop.\n",
        "\n",
        "\n",
        "Ans:\n",
        "\n"
      ],
      "metadata": {
        "id": "5H64dgAQk7-8"
      }
    },
    {
      "cell_type": "code",
      "source": [
        "    *\n",
        "   ***\n",
        "  *****\n",
        " *******\n",
        "*********"
      ],
      "metadata": {
        "id": "ZSJ8Q04ylHu0"
      },
      "execution_count": null,
      "outputs": []
    },
    {
      "cell_type": "code",
      "source": [
        "rows= 5\n",
        "\n",
        "for i in range(1, rows+1):\n",
        "  space= rows - i\n",
        "  stars = 2 * i - 1\n",
        "  print(\" \" * space + \"*\" * stars)"
      ],
      "metadata": {
        "colab": {
          "base_uri": "https://localhost:8080/"
        },
        "id": "Iq8Wn4lUoFz9",
        "outputId": "ada15038-8db1-42ed-99f7-701f2232fd9b"
      },
      "execution_count": 43,
      "outputs": [
        {
          "output_type": "stream",
          "name": "stdout",
          "text": [
            "    *\n",
            "   ***\n",
            "  *****\n",
            " *******\n",
            "*********\n"
          ]
        }
      ]
    },
    {
      "cell_type": "code",
      "source": [],
      "metadata": {
        "id": "LaNSuxQ4or5M"
      },
      "execution_count": null,
      "outputs": []
    },
    {
      "cell_type": "markdown",
      "source": [
        "Q.10. Write a code to create the given structure using while loop.\n"
      ],
      "metadata": {
        "id": "aVkf1Z_CpMxD"
      }
    },
    {
      "cell_type": "code",
      "source": [
        "|||||||||\n",
        " |||||||\n",
        "  |||||\n",
        "   |||\n",
        "    |"
      ],
      "metadata": {
        "id": "ZdZM1_DdpP9b"
      },
      "execution_count": null,
      "outputs": []
    },
    {
      "cell_type": "code",
      "source": [
        "rows = 5\n",
        "i = rows\n",
        "\n",
        "while i >= 1:\n",
        "    spaces = rows - i\n",
        "    vertical_bars = 2 * i - 1\n",
        "    print(\" \" * spaces + \"|\" * vertical_bars)\n",
        "    i -= 1"
      ],
      "metadata": {
        "colab": {
          "base_uri": "https://localhost:8080/"
        },
        "id": "Kb5buX6upUE8",
        "outputId": "5f29766c-4e43-4287-f579-7e9508aa0554"
      },
      "execution_count": 21,
      "outputs": [
        {
          "output_type": "stream",
          "name": "stdout",
          "text": [
            "|||||||||\n",
            " |||||||\n",
            "  |||||\n",
            "   |||\n",
            "    |\n"
          ]
        }
      ]
    },
    {
      "cell_type": "code",
      "source": [],
      "metadata": {
        "id": "wmR60Et1md7D"
      },
      "execution_count": null,
      "outputs": []
    }
  ]
}