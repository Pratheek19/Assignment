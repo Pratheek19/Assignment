{
  "nbformat": 4,
  "nbformat_minor": 0,
  "metadata": {
    "colab": {
      "provenance": [],
      "authorship_tag": "ABX9TyPnvisYxgM10AcdMoEBEios",
      "include_colab_link": true
    },
    "kernelspec": {
      "name": "python3",
      "display_name": "Python 3"
    },
    "language_info": {
      "name": "python"
    }
  },
  "cells": [
    {
      "cell_type": "markdown",
      "metadata": {
        "id": "view-in-github",
        "colab_type": "text"
      },
      "source": [
        "<a href=\"https://colab.research.google.com/github/Pratheek19/Assignment/blob/main/Assignment3.ipynb\" target=\"_parent\"><img src=\"https://colab.research.google.com/assets/colab-badge.svg\" alt=\"Open In Colab\"/></a>"
      ]
    },
    {
      "cell_type": "markdown",
      "source": [
        "1. Why are functions advantageous to have in your programs?\n",
        "\n",
        "ANS:\n",
        "\n",
        " Functions reduce the need for duplicate code. This makes programs shorter and easier to read."
      ],
      "metadata": {
        "id": "eLZk9-rbochk"
      }
    },
    {
      "cell_type": "markdown",
      "source": [
        "2. When does the code in a function run: when it's specified or when it's called?\n",
        "\n",
        "ANS:\n",
        "\n",
        "Code in function runs when the function is called and not when specified / defined.  "
      ],
      "metadata": {
        "id": "SdurSOhOpGp5"
      }
    },
    {
      "cell_type": "markdown",
      "source": [
        "3. What statement creates a function?\n",
        "\n",
        "ANS:\n",
        "\n",
        "Def statement defines/ creates a function."
      ],
      "metadata": {
        "id": "nnO9r61zpcWJ"
      }
    },
    {
      "cell_type": "markdown",
      "source": [
        "4. What is the difference between a function and a function call?\n",
        "\n",
        "ANS:\n",
        "\n",
        "A function is a piece of code which can be resused in a program. It means that piece of code need not be written again. A function call means calling that function. Unless a function is called there is no use of that function."
      ],
      "metadata": {
        "id": "mwjCpFc1putA"
      }
    },
    {
      "cell_type": "markdown",
      "source": [
        "5. How many global scopes are there in a Python program? How many local scopes?\n",
        "\n",
        "ANS:\n",
        "\n",
        "There's only one global Python scope per program execution. A variable created in the main body of the Python code is a global variable and belongs to the global scope.\n",
        "\n",
        "\n",
        "A variable created inside a function belongs to the local scope of that function, and can only be used inside that function. There is only 1 local scope in python program."
      ],
      "metadata": {
        "id": "WvFYeE1iqVc3"
      }
    },
    {
      "cell_type": "markdown",
      "source": [
        "6. What happens to variables in a local scope when the function call returns?\n",
        "\n",
        "ANS:\n",
        "\n",
        "When a function call returns, the local scope is destroyed, and all the variables in it are forgotten."
      ],
      "metadata": {
        "id": "k6zYmCoErl0k"
      }
    },
    {
      "cell_type": "markdown",
      "source": [
        "7. What is the concept of a return value? Is it possible to have a return value in an expression?\n",
        "\n",
        "ANS:\n",
        "\n",
        "A return value is the value that a function call evaluates to. Like any value, a return value can be used as part of an expression.\n",
        "\n"
      ],
      "metadata": {
        "id": "BfuvDR7IrwST"
      }
    },
    {
      "cell_type": "markdown",
      "source": [
        "8. If a function does not have a return statement, what is the return value of a call to that function?\n",
        "\n",
        "ANS:\n",
        "\n",
        "If there is no return statement for a function, its return value is None."
      ],
      "metadata": {
        "id": "brUY-AaBsEmb"
      }
    },
    {
      "cell_type": "markdown",
      "source": [
        "9. How do you make a function variable refer to the global variable?\n",
        "\n",
        "A global Keyword will force a variable in a function to refer to the global variable."
      ],
      "metadata": {
        "id": "MSZZImzNsLNj"
      }
    },
    {
      "cell_type": "code",
      "source": [
        "def myfunc():\n",
        "  global x\n",
        "  x = \"Ineuron faculties Rocks\"\n",
        "\n",
        "myfunc()\n",
        "\n",
        "print(\" All \" + x)"
      ],
      "metadata": {
        "colab": {
          "base_uri": "https://localhost:8080/"
        },
        "id": "Ezq5IX69ss9i",
        "outputId": "990cc710-2bda-410f-8301-a1ec22d19451"
      },
      "execution_count": 1,
      "outputs": [
        {
          "output_type": "stream",
          "name": "stdout",
          "text": [
            " All Ineuron faculties Rocks\n"
          ]
        }
      ]
    },
    {
      "cell_type": "markdown",
      "source": [
        "10. What is the data type of None?\n",
        "\n",
        "ANS:\n",
        "\n",
        "The data type of None is NoneType."
      ],
      "metadata": {
        "id": "_Vm5CBUbtCs5"
      }
    },
    {
      "cell_type": "markdown",
      "source": [
        "11. What does the sentence import areallyourpetsnamederic do?\n",
        "\n",
        "ANS:\n",
        "\n",
        "That import statement imports a module named areallyourpetsnamederic."
      ],
      "metadata": {
        "id": "1tPynypNtM04"
      }
    },
    {
      "cell_type": "markdown",
      "source": [
        "12. If you had a bacon() feature in a spam module, what would you call it after importing spam?\n",
        "\n",
        "ANS:\n",
        "\n",
        "spam.bacon() will be used to call the feature/function."
      ],
      "metadata": {
        "id": "-G4zxJYEtXki"
      }
    },
    {
      "cell_type": "markdown",
      "source": [
        "13. What can you do to save a programme from crashing if it encounters an error?\n",
        "\n",
        "ANS:\n",
        "By keeping the line of code in Try clause we can save the programme from crashing.\n",
        "\n"
      ],
      "metadata": {
        "id": "fMoCaOn4tzuw"
      }
    },
    {
      "cell_type": "markdown",
      "source": [
        "14. What is the purpose of the try clause? What is the purpose of the except clause?\n",
        "\n",
        "ANS:\n",
        "\n",
        "The code that could potentially cause an error goes in the try clause.\n",
        "\n",
        "The code that executes if an error happens goes in the except clause."
      ],
      "metadata": {
        "id": "6hVt_cVTuJv3"
      }
    },
    {
      "cell_type": "markdown",
      "source": [],
      "metadata": {
        "id": "h3wWLbz7t9eP"
      }
    }
  ]
}