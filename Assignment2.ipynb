{
  "nbformat": 4,
  "nbformat_minor": 0,
  "metadata": {
    "colab": {
      "provenance": [],
      "authorship_tag": "ABX9TyPVZlJ4FJxcbRPX33rc99lx",
      "include_colab_link": true
    },
    "kernelspec": {
      "name": "python3",
      "display_name": "Python 3"
    },
    "language_info": {
      "name": "python"
    }
  },
  "cells": [
    {
      "cell_type": "markdown",
      "metadata": {
        "id": "view-in-github",
        "colab_type": "text"
      },
      "source": [
        "<a href=\"https://colab.research.google.com/github/Pratheek19/Assignment/blob/main/Assignment2.ipynb\" target=\"_parent\"><img src=\"https://colab.research.google.com/assets/colab-badge.svg\" alt=\"Open In Colab\"/></a>"
      ]
    },
    {
      "cell_type": "markdown",
      "source": [
        "1.What are the two values of the Boolean data type? How do you write them?\n",
        "\n",
        "Boolean data type are true and false.\n",
        "\n",
        "True = 1\n",
        "\n",
        "False = 0\n",
        "\n",
        "\n",
        "print(bool(a<b))\n",
        "\n",
        "print(bool(a==b))\n"
      ],
      "metadata": {
        "id": "qxihnULCLDs0"
      }
    },
    {
      "cell_type": "code",
      "source": [
        "a= 5\n",
        "b= 10\n",
        "\n",
        "print(bool(a<b))\n",
        "\n",
        "print(bool(a==b))\n",
        "\n"
      ],
      "metadata": {
        "colab": {
          "base_uri": "https://localhost:8080/"
        },
        "id": "INL9Qm3TMC-H",
        "outputId": "14f2b94b-548a-4ad3-ec72-f51f7dcd006f"
      },
      "execution_count": null,
      "outputs": [
        {
          "output_type": "stream",
          "name": "stdout",
          "text": [
            "True\n",
            "False\n"
          ]
        }
      ]
    },
    {
      "cell_type": "markdown",
      "source": [
        "2. What are the three different types of Boolean operators?\n",
        "\n",
        "AND, OR , NOT"
      ],
      "metadata": {
        "id": "bP655q6_M-7k"
      }
    },
    {
      "cell_type": "markdown",
      "source": [
        "3. Make a list of each Boolean operator&#39;s truth tables (i.e. every possible combination of Boolean\n",
        "values for the operator and what it evaluate ).\n",
        "\n",
        "  ANS: True=1 , False= 0\n",
        "\n",
        "NOT         \n",
        "______\n",
        "X | X'\n",
        "\n",
        "------\n",
        "\n",
        "0 | 1\n",
        "\n",
        "1 | 0\n",
        "\n",
        "\n",
        "AND\n",
        "\n",
        "__________\n",
        "0  |  0  = 0\n",
        "\n",
        "0  |  1  = 0\n",
        "\n",
        "1  |  0  = 0\n",
        "\n",
        "1  |  1  = 1\n",
        "\n",
        "OR\n",
        "\n",
        "___________\n",
        "0  |  0  =  0\n",
        "\n",
        "0  |  1  =  1\n",
        "\n",
        "1  |  0  =  1\n",
        "\n",
        "1  |  1  =  1\n",
        "\n",
        "\n",
        "\n",
        "\n",
        "\n"
      ],
      "metadata": {
        "id": "c_IBIBeNNdUa"
      }
    },
    {
      "cell_type": "markdown",
      "source": [
        "4. What are the values of the following expressions?"
      ],
      "metadata": {
        "id": "zwy4yEN8NfuK"
      }
    },
    {
      "cell_type": "code",
      "source": [
        "ANS:"
      ],
      "metadata": {
        "id": "ukUINDrHaQIt"
      },
      "execution_count": null,
      "outputs": []
    },
    {
      "cell_type": "code",
      "source": [
        "(5 > 4) and (3 == 5)"
      ],
      "metadata": {
        "colab": {
          "base_uri": "https://localhost:8080/"
        },
        "id": "bvZxgPNxaPck",
        "outputId": "26eead42-112d-456b-a07b-fbda7da0a0f8"
      },
      "execution_count": null,
      "outputs": [
        {
          "output_type": "execute_result",
          "data": {
            "text/plain": [
              "False"
            ]
          },
          "metadata": {},
          "execution_count": 2
        }
      ]
    },
    {
      "cell_type": "code",
      "source": [
        "not (5 > 4)"
      ],
      "metadata": {
        "colab": {
          "base_uri": "https://localhost:8080/"
        },
        "id": "In3V6QqVaSq0",
        "outputId": "14c4cb97-5987-42c9-b92e-7fddf45a80b3"
      },
      "execution_count": null,
      "outputs": [
        {
          "output_type": "execute_result",
          "data": {
            "text/plain": [
              "False"
            ]
          },
          "metadata": {},
          "execution_count": 3
        }
      ]
    },
    {
      "cell_type": "code",
      "source": [
        "(5 > 4) or (3 == 5)"
      ],
      "metadata": {
        "colab": {
          "base_uri": "https://localhost:8080/"
        },
        "id": "XFlE_99madjj",
        "outputId": "76fa7cc1-7dac-413c-fd2a-06bc78feec66"
      },
      "execution_count": null,
      "outputs": [
        {
          "output_type": "execute_result",
          "data": {
            "text/plain": [
              "True"
            ]
          },
          "metadata": {},
          "execution_count": 4
        }
      ]
    },
    {
      "cell_type": "code",
      "source": [
        "not ((5 > 4) or (3 == 5))"
      ],
      "metadata": {
        "colab": {
          "base_uri": "https://localhost:8080/"
        },
        "id": "mWjS-h4Kahor",
        "outputId": "ab5ea91d-a47f-438a-f54f-58bf72d87d2d"
      },
      "execution_count": null,
      "outputs": [
        {
          "output_type": "execute_result",
          "data": {
            "text/plain": [
              "False"
            ]
          },
          "metadata": {},
          "execution_count": 5
        }
      ]
    },
    {
      "cell_type": "code",
      "source": [
        "((True and True) and (True == False))"
      ],
      "metadata": {
        "colab": {
          "base_uri": "https://localhost:8080/"
        },
        "id": "dTPngVoRamTb",
        "outputId": "ac2ec9a6-72dd-4f08-c6bd-17a1afcabf98"
      },
      "execution_count": null,
      "outputs": [
        {
          "output_type": "execute_result",
          "data": {
            "text/plain": [
              "False"
            ]
          },
          "metadata": {},
          "execution_count": 6
        }
      ]
    },
    {
      "cell_type": "code",
      "source": [
        "(not False) or (not True)"
      ],
      "metadata": {
        "colab": {
          "base_uri": "https://localhost:8080/"
        },
        "id": "XvT6PLBlarSb",
        "outputId": "c3847b37-5a30-4832-e50d-791ac6d0fa81"
      },
      "execution_count": null,
      "outputs": [
        {
          "output_type": "execute_result",
          "data": {
            "text/plain": [
              "True"
            ]
          },
          "metadata": {},
          "execution_count": 7
        }
      ]
    },
    {
      "cell_type": "markdown",
      "source": [
        "5. What are the six comparison operators?\n",
        "\n",
        "ANS:\n",
        "\n",
        "Equal to  ==\n",
        "\n",
        "Not equal to !=\n",
        "\n",
        "Great than  >\n",
        "\n",
        "lesser than  <\n",
        "\n",
        "Greater or equal to  >=\n",
        "\n",
        "lesser or equal to   <=\n",
        "\n"
      ],
      "metadata": {
        "id": "HnuHjTrTazeL"
      }
    },
    {
      "cell_type": "markdown",
      "source": [
        "6 . How do you tell the difference between the equal to and assignment operators?Describe a\n",
        "condition and when you would use one.\n",
        "\n",
        "ANS:\n",
        "\n",
        "=  Equal to is used to assign a value to a operator\n",
        "\n",
        "==  Is used to compare the values of borth the variables and the result will true or false.\n",
        "\n"
      ],
      "metadata": {
        "id": "MzLmHtFsbwKq"
      }
    },
    {
      "cell_type": "code",
      "source": [
        "A= 2\n",
        "B= 3\n",
        "\n",
        "print(\"sum of \", A+B )"
      ],
      "metadata": {
        "colab": {
          "base_uri": "https://localhost:8080/"
        },
        "id": "BaDsDyNvcLwQ",
        "outputId": "6a2d1ba6-aef7-403a-a934-933dfc30f8f5"
      },
      "execution_count": null,
      "outputs": [
        {
          "output_type": "stream",
          "name": "stdout",
          "text": [
            "sum of  5\n"
          ]
        }
      ]
    },
    {
      "cell_type": "code",
      "source": [
        "A= 2\n",
        "B= 3\n",
        "\n",
        "if A==B:\n",
        "  print(\" A is equal to B\")\n",
        "else :\n",
        "  print(\"A is not equal to B \")"
      ],
      "metadata": {
        "colab": {
          "base_uri": "https://localhost:8080/"
        },
        "id": "Jn6ASVZIcVrw",
        "outputId": "c477cd9a-31ab-48ae-ef01-e87b00af2abb"
      },
      "execution_count": null,
      "outputs": [
        {
          "output_type": "stream",
          "name": "stdout",
          "text": [
            "A is not equal to B \n"
          ]
        }
      ]
    },
    {
      "cell_type": "markdown",
      "source": [
        "7. Identify the three blocks in this code:\n",
        "\n"
      ],
      "metadata": {
        "id": "g0utztJfcx04"
      }
    },
    {
      "cell_type": "code",
      "source": [
        "spam = 0\n",
        "if spam == 10:    # Block 1\n",
        "   print('eggs')  # Block 1\n",
        "if spam > 5:          # Block 2\n",
        "   print('bacon')    # Block 2\n",
        "else:               # Block 3\n",
        "   print('ham')    # Block 3\n",
        "print('spam')       # Not part of block\n",
        "print('spam')       # Not part of block\n",
        "\n"
      ],
      "metadata": {
        "colab": {
          "base_uri": "https://localhost:8080/"
        },
        "id": "-E3I4j-Wc3Cn",
        "outputId": "df386ed7-d1ac-4fc5-c1b0-3d3db9566d9f"
      },
      "execution_count": null,
      "outputs": [
        {
          "output_type": "stream",
          "name": "stdout",
          "text": [
            "ham\n",
            "spam\n",
            "spam\n"
          ]
        }
      ]
    },
    {
      "cell_type": "markdown",
      "source": [
        "8. Write code that prints Hello if 1 is stored in spam, prints Howdy if 2 is stored in spam, and prints\n",
        "Greetings! if anything else is stored in spam.\n",
        "\n"
      ],
      "metadata": {
        "id": "4r8nEOnSfgHL"
      }
    },
    {
      "cell_type": "code",
      "source": [
        "Spam = int(input())\n",
        "\n",
        "\n",
        "if Spam == 1 :\n",
        "   print(\"Hello\")\n",
        "elif Spam == 2 :\n",
        "    print(\"Howdy\")\n",
        "else :\n",
        "    print(\"Greetings\")\n",
        "\n"
      ],
      "metadata": {
        "colab": {
          "base_uri": "https://localhost:8080/"
        },
        "id": "_-L_fX6ZflpL",
        "outputId": "01d46bc4-c4de-42f6-dbee-02a9e23ed364"
      },
      "execution_count": null,
      "outputs": [
        {
          "output_type": "stream",
          "name": "stdout",
          "text": [
            "4\n",
            "Greetings\n"
          ]
        }
      ]
    },
    {
      "cell_type": "markdown",
      "source": [
        "9.If your programme is stuck in an endless loop, what keys you’ll press?\n",
        "\n",
        "ANS :  \n",
        "\n",
        " CTRL + C"
      ],
      "metadata": {
        "id": "4cc0g_xwhgR9"
      }
    },
    {
      "cell_type": "markdown",
      "source": [
        "10. How can you tell the difference between break and continue?\n",
        "\n",
        "ANS:\n",
        "\n",
        "Break : Breaks out of the loop competely.\n",
        "\n",
        "Continue : Breaks out of the current loop iteration, and continues to the next iteration.\n",
        "\n"
      ],
      "metadata": {
        "id": "OAvIEgBehqgF"
      }
    },
    {
      "cell_type": "markdown",
      "source": [
        "11. In a for loop, what is the difference between range(10), range(0, 10), and range(0, 10, 1)?\n",
        "\n",
        "ANS:\n",
        "\n",
        "Here all the three Types gives the same output.\n",
        "\n",
        "\n",
        "range(10) means prints number from 1-9 (Here its fixed range)\n",
        "\n",
        "\n",
        "range(0, 10) means print starts from 0- 9, Here the first vale is changed to 1 means the print willl start from 1 - 9. (Here the range is varied from starting point and ending point)\n",
        "\n",
        "range(0, 10, 1) Means the print starts from 0 - 9 in positive direction with single jumps.\n",
        "(Here the range is varied from starting point and ending point with jump)"
      ],
      "metadata": {
        "id": "eMCcEiZAlMfV"
      }
    },
    {
      "cell_type": "code",
      "source": [
        "for i in range(10):\n",
        "  print(i)\n"
      ],
      "metadata": {
        "colab": {
          "base_uri": "https://localhost:8080/"
        },
        "id": "C5hey4exlWGu",
        "outputId": "eb1342f0-d872-4b4c-98d9-c8abf1c0fb75"
      },
      "execution_count": null,
      "outputs": [
        {
          "output_type": "stream",
          "name": "stdout",
          "text": [
            "0\n",
            "1\n",
            "2\n",
            "3\n",
            "4\n",
            "5\n",
            "6\n",
            "7\n",
            "8\n",
            "9\n"
          ]
        }
      ]
    },
    {
      "cell_type": "code",
      "source": [
        "for i in range(0, 10):\n",
        "  print(i)\n"
      ],
      "metadata": {
        "colab": {
          "base_uri": "https://localhost:8080/"
        },
        "id": "0aabpV4ilXLc",
        "outputId": "148c8ec7-cbd3-4c73-d0c0-2bdabec30c29"
      },
      "execution_count": null,
      "outputs": [
        {
          "output_type": "stream",
          "name": "stdout",
          "text": [
            "0\n",
            "1\n",
            "2\n",
            "3\n",
            "4\n",
            "5\n",
            "6\n",
            "7\n",
            "8\n",
            "9\n"
          ]
        }
      ]
    },
    {
      "cell_type": "code",
      "source": [
        "for i in range(0, 10, 1):\n",
        "    print(i)"
      ],
      "metadata": {
        "colab": {
          "base_uri": "https://localhost:8080/"
        },
        "id": "Ds6uCWYtlZpk",
        "outputId": "f8c3ef87-5cc6-4d58-ef03-6fedb57122f4"
      },
      "execution_count": null,
      "outputs": [
        {
          "output_type": "stream",
          "name": "stdout",
          "text": [
            "0\n",
            "1\n",
            "2\n",
            "3\n",
            "4\n",
            "5\n",
            "6\n",
            "7\n",
            "8\n",
            "9\n"
          ]
        }
      ]
    },
    {
      "cell_type": "markdown",
      "source": [
        "12. Write a short program that prints the numbers 1 to 10 using a for loop. Then write an equivalent\n",
        "program that prints the numbers 1 to 10 using a while loop.\n",
        "\n",
        "ANS:\n",
        "\n"
      ],
      "metadata": {
        "id": "vFtpuVOlnM_R"
      }
    },
    {
      "cell_type": "code",
      "source": [
        "N=11\n",
        "for i in range(1, N):\n",
        "  print(i)"
      ],
      "metadata": {
        "colab": {
          "base_uri": "https://localhost:8080/"
        },
        "id": "NPCsAaUFnRmZ",
        "outputId": "9ba53a77-de03-45b1-a106-496946657982"
      },
      "execution_count": null,
      "outputs": [
        {
          "output_type": "stream",
          "name": "stdout",
          "text": [
            "1\n",
            "2\n",
            "3\n",
            "4\n",
            "5\n",
            "6\n",
            "7\n",
            "8\n",
            "9\n",
            "10\n"
          ]
        }
      ]
    },
    {
      "cell_type": "code",
      "source": [
        "count = 1\n",
        "while count <=10:\n",
        "  print(count)\n",
        "  count +=1"
      ],
      "metadata": {
        "colab": {
          "base_uri": "https://localhost:8080/"
        },
        "id": "BbROeIU7nXKY",
        "outputId": "e20f8530-38ff-441a-b416-b4a71f8b5780"
      },
      "execution_count": null,
      "outputs": [
        {
          "output_type": "stream",
          "name": "stdout",
          "text": [
            "1\n",
            "2\n",
            "3\n",
            "4\n",
            "5\n",
            "6\n",
            "7\n",
            "8\n",
            "9\n",
            "10\n"
          ]
        }
      ]
    },
    {
      "cell_type": "markdown",
      "source": [
        "13. If you had a function named bacon() inside a module named spam, how would you call it after\n",
        "importing spam?\n",
        "\n",
        "ANS:\n",
        "\n",
        "import spam\n",
        "\n",
        "spam.bacon()"
      ],
      "metadata": {
        "id": "ScVOVUO8oUxf"
      }
    },
    {
      "cell_type": "code",
      "source": [],
      "metadata": {
        "id": "szcLBbKQojqV"
      },
      "execution_count": null,
      "outputs": []
    }
  ]
}