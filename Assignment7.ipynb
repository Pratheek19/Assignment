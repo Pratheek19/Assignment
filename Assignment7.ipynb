{
  "nbformat": 4,
  "nbformat_minor": 0,
  "metadata": {
    "colab": {
      "provenance": [],
      "authorship_tag": "ABX9TyMqhX9ZoIWMNPNtfaAf2EPr",
      "include_colab_link": true
    },
    "kernelspec": {
      "name": "python3",
      "display_name": "Python 3"
    },
    "language_info": {
      "name": "python"
    }
  },
  "cells": [
    {
      "cell_type": "markdown",
      "metadata": {
        "id": "view-in-github",
        "colab_type": "text"
      },
      "source": [
        "<a href=\"https://colab.research.google.com/github/Pratheek19/Assignment/blob/main/Assignment7.ipynb\" target=\"_parent\"><img src=\"https://colab.research.google.com/assets/colab-badge.svg\" alt=\"Open In Colab\"/></a>"
      ]
    },
    {
      "cell_type": "markdown",
      "source": [
        "Q.1. Create two int type variables, apply addition, subtraction, division and multiplications\n",
        "and store the results in variables. Then print the data in the following format by calling the\n",
        "variables:\n",
        "\n",
        "First variable is __ & second variable is __.\n",
        "\n",
        "Addition: __ + __ = __\n",
        "\n",
        "Subtraction: __ - __ = __\n",
        "\n",
        "Multiplication: __ * __ = __\n",
        "\n",
        "Division: __ / __ = __"
      ],
      "metadata": {
        "id": "HQOSD1-7WEF_"
      }
    },
    {
      "cell_type": "code",
      "source": [
        "A= int(input(\"first Integer : \"))\n",
        "B= int(input(\"second Integer : \"))\n",
        "\n",
        "def Addition(Add):\n",
        "   Add = A+B\n",
        "   print(\"Addition: \", A ,\"+\",B,\"=\",Add)\n",
        "def Subtraction(Sub):\n",
        "   Sub = A - B\n",
        "   print(\"Subtraction: \", A ,\"-\",B,\"=\",Sub)\n",
        "def Multiplication(MULTI):\n",
        "   MULTI = A * B\n",
        "   print(\"Multiplication: \", A ,\"*\", B,\"=\",MULTI)\n",
        "def Division(DIV):\n",
        "   DIV = A/B\n",
        "   print(\"Division: \", A ,\"/\", B,\"=\",DIV)\n",
        "\n",
        "print(\"First variable is: \", A , \"and Second variable is : \", B)\n",
        "\n",
        "Addition(Add)\n",
        "Subtraction(Sub)\n",
        "Multiplication(MULTI)\n",
        "Division(DIV)\n",
        "\n"
      ],
      "metadata": {
        "colab": {
          "base_uri": "https://localhost:8080/"
        },
        "id": "V5NTSsKFWLEZ",
        "outputId": "4f9c9628-e5d5-4f4f-d610-55f8fb0750d2"
      },
      "execution_count": 5,
      "outputs": [
        {
          "output_type": "stream",
          "name": "stdout",
          "text": [
            "first Integer : 2\n",
            "second Integer : 2\n",
            "First variable is:  2 and Second variable is :  2\n",
            "Addition:  2 + 2 = 4\n",
            "Subtraction:  2 - 2 = 0\n",
            "Multiplication:  2 * 2 = 4\n",
            "Division:  2 / 2 = 1.0\n"
          ]
        }
      ]
    },
    {
      "cell_type": "markdown",
      "source": [
        "Q.2. What is the difference between the following operators:\n",
        "(i) ‘/’ & ‘//’\n",
        "(ii) ‘**’ & ‘^’\n",
        "\n",
        "ANS:\n",
        "\n",
        "(i) : '/' : Is a Divsion operator and '//' is  \n",
        "     a  Backshalsh\n",
        "     \n",
        "(ii) : '**' : The ** operator is used for     exponentiation, raising a number to a power.\n",
        "     : The ^ operator is the bitwise XOR\n",
        "       operator."
      ],
      "metadata": {
        "id": "2D68ZPCmaL5_"
      }
    },
    {
      "cell_type": "markdown",
      "source": [
        "Q.3. List the logical operators.\n",
        "\n",
        "ANS:\n",
        "\n",
        "AND, OR , NOT"
      ],
      "metadata": {
        "id": "nsaOkdumb-Ha"
      }
    },
    {
      "cell_type": "markdown",
      "source": [
        "Q.4. Explain right shift operator and left shift operator with examples.\n",
        "\n",
        "ANS:\n",
        "\n",
        "Left Shift Operator <<:\n",
        "The left shift operator shifts the bits of a number to the left by the specified number of positions. The rightmost bits are filled with zeros. We can say left shift operator is mutiply by 2 also.\n",
        "\n",
        "Right Shift Operator >>:\n",
        "The right shift operator shifts the bits of a number to the right by the specified number of positions. The rightmost bits are dropped, and the leftmost bits are filled with the sign bit (the most significant bit for signed integers) to preserve the sign of the number. We can say left Right shift operator is Division by 2 also.\n",
        "\n",
        "\n"
      ],
      "metadata": {
        "id": "onNs6cVLcICi"
      }
    },
    {
      "cell_type": "code",
      "source": [
        "# Left shift by 3 positions\n",
        "number = 5    # Binary: 101\n",
        "result = number << 3\n",
        "print(result)  # Output: 40 (Binary: 101000)"
      ],
      "metadata": {
        "colab": {
          "base_uri": "https://localhost:8080/"
        },
        "id": "MUZ8yNGW0-F3",
        "outputId": "b1cc50b6-31c8-4924-f77c-438b36d4cd2a"
      },
      "execution_count": 1,
      "outputs": [
        {
          "output_type": "stream",
          "name": "stdout",
          "text": [
            "40\n"
          ]
        }
      ]
    },
    {
      "cell_type": "code",
      "source": [
        "# Right shift by 2 positions\n",
        "number = 16   # Binary: 10000\n",
        "result = number >> 2\n",
        "print(result)  # Output: 4 (Binary: 100)"
      ],
      "metadata": {
        "colab": {
          "base_uri": "https://localhost:8080/"
        },
        "id": "trKYyH6W0_wd",
        "outputId": "72766fd0-8003-400b-805f-392c1ad485f5"
      },
      "execution_count": 2,
      "outputs": [
        {
          "output_type": "stream",
          "name": "stdout",
          "text": [
            "4\n"
          ]
        }
      ]
    },
    {
      "cell_type": "markdown",
      "source": [
        "Q.5. Create a list containing int type data of length 15. Then write a code to check if 10 is\n",
        "present in the list or not.\n",
        "\n"
      ],
      "metadata": {
        "id": "wm5igdyqdFmA"
      }
    },
    {
      "cell_type": "code",
      "source": [
        "Lst = [2,45,67,89,23,45,43,213,43,10,12,45,23,56,34]\n",
        "\n",
        "find = int(input(\"Enter number to be searched : \"))\n",
        "if find in Lst:\n",
        "  print(f\"Found int : {find} in List \")\n",
        "else:\n",
        "    print(f\" Integer {find} not found in list\")"
      ],
      "metadata": {
        "colab": {
          "base_uri": "https://localhost:8080/"
        },
        "id": "aN55QbQPdHM4",
        "outputId": "e71664fe-a218-46a8-c355-06ba504a97dd"
      },
      "execution_count": 18,
      "outputs": [
        {
          "output_type": "stream",
          "name": "stdout",
          "text": [
            "Enter number to be searched : 10\n",
            "Found int : 10 in List \n"
          ]
        }
      ]
    }
  ]
}