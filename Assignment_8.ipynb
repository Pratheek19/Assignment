{
  "nbformat": 4,
  "nbformat_minor": 0,
  "metadata": {
    "colab": {
      "provenance": [],
      "authorship_tag": "ABX9TyPuBcEI9VhUzgR/NeOLJcwI",
      "include_colab_link": true
    },
    "kernelspec": {
      "name": "python3",
      "display_name": "Python 3"
    },
    "language_info": {
      "name": "python"
    }
  },
  "cells": [
    {
      "cell_type": "markdown",
      "metadata": {
        "id": "view-in-github",
        "colab_type": "text"
      },
      "source": [
        "<a href=\"https://colab.research.google.com/github/Pratheek19/Assignment/blob/main/Assignment_8.ipynb\" target=\"_parent\"><img src=\"https://colab.research.google.com/assets/colab-badge.svg\" alt=\"Open In Colab\"/></a>"
      ]
    },
    {
      "cell_type": "code",
      "execution_count": null,
      "metadata": {
        "id": "NC60Yr39X0TN"
      },
      "outputs": [],
      "source": []
    },
    {
      "cell_type": "markdown",
      "source": [
        "1) What is the role of try and exception block?\n",
        "\n",
        "ANS:\n",
        "The try block allows you to test a block of code for errors.\n",
        "The except block lets you handle the error if one occurs."
      ],
      "metadata": {
        "id": "n-vnlLFzX1V7"
      }
    },
    {
      "cell_type": "markdown",
      "source": [
        "2) What is the syntax for a basic try-except block?\n",
        "\n",
        "Ans:\n",
        "\n",
        "try:\n",
        "    #code that may raise an exception\n",
        "\n",
        "except ExceptionType:\n",
        "    #code that runs if the exception occurs\n",
        "\n"
      ],
      "metadata": {
        "id": "sb_fSPC9c9gK"
      }
    },
    {
      "cell_type": "markdown",
      "source": [
        "3) What happens if an exception occurs inside a try block and there is no matching\n",
        "except block?\n",
        "\n",
        "ANS:\n",
        "\n",
        "If there is no matching except block, the exception will propagate up and terminate the program, displaying a traceback."
      ],
      "metadata": {
        "id": "zBkFszEqde3z"
      }
    },
    {
      "cell_type": "markdown",
      "source": [
        "4) What is the difference between using a bare except block and specifying a specific\n",
        "exception type?\n",
        "\n",
        "ANS:\n",
        "\n",
        "A bare except block catches all exceptions, which can make debugging difficult and may catch unexpected errors. Specifying an exception type catches only that specific type of exception.\n"
      ],
      "metadata": {
        "id": "XO0OTcMBlPss"
      }
    },
    {
      "cell_type": "markdown",
      "source": [
        "5) Can you have nested try-except blocks in Python? If yes, then give an example.\n",
        "\n",
        "ANS:\n",
        "\n",
        "Yes, we can use multiple try-except blocks to handle different types of exceptions.\n",
        "\n",
        "Ex:\n",
        "\n",
        "\n",
        "\n",
        "\n",
        "\n",
        "\n"
      ],
      "metadata": {
        "id": "D9ax7HMUlutw"
      }
    },
    {
      "cell_type": "code",
      "source": [
        "try:\n",
        "    try:\n",
        "        x = int(input(\"Enter a number: \"))\n",
        "        y = 1 / x\n",
        "    except ValueError:\n",
        "        print(\"Invalid number\")\n",
        "except ZeroDivisionError:\n",
        "    print(\"You can't divide by zero!\")\n"
      ],
      "metadata": {
        "colab": {
          "base_uri": "https://localhost:8080/"
        },
        "id": "tqnBKCcvqXI2",
        "outputId": "096ed762-38e0-4c90-b3ac-49dedc02297e"
      },
      "execution_count": 5,
      "outputs": [
        {
          "output_type": "stream",
          "name": "stdout",
          "text": [
            "Enter a number: 0\n",
            "You can't divide by zero!\n"
          ]
        }
      ]
    },
    {
      "cell_type": "markdown",
      "source": [
        "6) Can we use multiple exception blocks, if yes then give an example.\n",
        "\n",
        "ANS:\n",
        "\n",
        "Yes, you can use multiple except blocks to handle different types of exceptions.\n",
        "\n",
        "EX:\n"
      ],
      "metadata": {
        "id": "m3vBKyovrFRM"
      }
    },
    {
      "cell_type": "code",
      "source": [
        "try:\n",
        "    x = int(input(\"Enter a number: \"))\n",
        "    y = 1 / x\n",
        "except ValueError:\n",
        "    print(\"Invalid number\")\n",
        "except ZeroDivisionError:\n",
        "    print(\"You can't divide by zero!\")\n"
      ],
      "metadata": {
        "id": "ZRrSRe6TrTPA"
      },
      "execution_count": null,
      "outputs": []
    },
    {
      "cell_type": "markdown",
      "source": [
        "7) Write the reason due to which following errors are\n",
        "   raised:\n",
        "\n",
        "a. EOFError\n",
        "\n",
        "b. FloatingPointError\n",
        "\n",
        "c. IndexError\n",
        "\n",
        "d. MemoryError\n",
        "\n",
        "e. OverflowError\n",
        "\n",
        "f. TabError\n",
        "\n",
        "g. ValueError\n",
        "\n",
        "Ans:\n",
        "\n",
        "EOFError: Raised when the input() function hits an end-of-file condition (EOF) without reading any data.\n",
        "\n",
        "FloatingPointError: Raised when a floating point operation fails.\n",
        "\n",
        "IndexError: Raised when a sequence subscript is out of range.\n",
        "\n",
        "MemoryError: Raised when an operation runs out of memory.\n",
        "\n",
        "OverflowError: Raised when the result of an arithmetic operation is too large to be expressed within the available range.\n",
        "\n",
        "TabError: Raised when inconsistent use of tabs and spaces in indentation.\n",
        "\n",
        "ValueError: Raised when a function receives an argument of the correct type but an inappropriate value."
      ],
      "metadata": {
        "id": "N2lkVyntr2t7"
      }
    },
    {
      "cell_type": "markdown",
      "source": [
        "8) Write code for the following given scenario and add try-exception block to it.\n",
        "\n",
        "a. Program to divide two numbers\n",
        "\n",
        "b. Program to convert a string to an integer\n",
        "\n",
        "c. Program to access an element in a list\n",
        "\n",
        "d. Program to handle a specific exception\n",
        "\n",
        "e. Program to handle any exception"
      ],
      "metadata": {
        "id": "iufdru1Tslls"
      }
    },
    {
      "cell_type": "markdown",
      "source": [
        "Program to divide two numbers"
      ],
      "metadata": {
        "id": "XCFtJ2rJtKaN"
      }
    },
    {
      "cell_type": "code",
      "source": [
        "try:\n",
        "    a = float(input(\"Enter the first number: \"))\n",
        "    b = float(input(\"Enter the second number: \"))\n",
        "    result = a / b\n",
        "    print(\"Result:\", result)\n",
        "except ZeroDivisionError:\n",
        "    print(\"You can't divide by zero!\")\n",
        "except ValueError:\n",
        "    print(\"Please enter valid numbers.\")\n"
      ],
      "metadata": {
        "colab": {
          "base_uri": "https://localhost:8080/"
        },
        "id": "zkOrrpXXswje",
        "outputId": "e61ed1a2-3d24-4b38-ab8a-2ccc16e219d1"
      },
      "execution_count": 9,
      "outputs": [
        {
          "output_type": "stream",
          "name": "stdout",
          "text": [
            "Enter the first number: r\n",
            "Please enter valid numbers.\n"
          ]
        }
      ]
    },
    {
      "cell_type": "markdown",
      "source": [
        "Program to convert a string to an integer"
      ],
      "metadata": {
        "id": "GPVxXjMus1SN"
      }
    },
    {
      "cell_type": "code",
      "source": [
        "try:\n",
        "    s = input(\"Enter a string: \")\n",
        "    num = int(s)\n",
        "    print(\"Converted integer:\", num)\n",
        "except ValueError:\n",
        "    print(\"The string cannot be converted to an integer.\")\n"
      ],
      "metadata": {
        "colab": {
          "base_uri": "https://localhost:8080/"
        },
        "id": "WdiX1fDesxf7",
        "outputId": "c0297f2b-b8c2-43d8-d0d2-89e50512d08e"
      },
      "execution_count": 14,
      "outputs": [
        {
          "output_type": "stream",
          "name": "stdout",
          "text": [
            "Enter a string: 34\n",
            "Converted integer: 34\n"
          ]
        }
      ]
    },
    {
      "cell_type": "markdown",
      "source": [
        "Program to access an element in a list"
      ],
      "metadata": {
        "id": "ViieJeYEs449"
      }
    },
    {
      "cell_type": "code",
      "source": [
        "try:\n",
        "    my_list = [1, 2, 3, 4, 5]\n",
        "    index = int(input(\"Enter an index: \"))\n",
        "    print(\"Element at index:\", my_list[index])\n",
        "except IndexError:\n",
        "    print(\"Index out of range.\")\n",
        "except ValueError:\n",
        "    print(\"Please enter a valid index.\")\n"
      ],
      "metadata": {
        "colab": {
          "base_uri": "https://localhost:8080/"
        },
        "id": "ftN0FgpFs6yX",
        "outputId": "43920f3c-c854-4c61-ea68-ef87f4c96a60"
      },
      "execution_count": 16,
      "outputs": [
        {
          "output_type": "stream",
          "name": "stdout",
          "text": [
            "Enter an index: 6\n",
            "Index out of range.\n"
          ]
        }
      ]
    },
    {
      "cell_type": "markdown",
      "source": [
        "Program to handle a specific exception"
      ],
      "metadata": {
        "id": "QFJ9u5Vws-_D"
      }
    },
    {
      "cell_type": "code",
      "source": [
        "try:\n",
        "    num = int(input(\"Enter a number: \"))\n",
        "    result = 10 / num\n",
        "    print(\"Result:\", result)\n",
        "except ZeroDivisionError:\n",
        "    print(\"You can't divide by zero!\")\n"
      ],
      "metadata": {
        "id": "qZ0pCE36s_tN"
      },
      "execution_count": null,
      "outputs": []
    },
    {
      "cell_type": "markdown",
      "source": [
        "Program to handle any exception"
      ],
      "metadata": {
        "id": "8MHRdIYktC0r"
      }
    },
    {
      "cell_type": "code",
      "source": [
        "try:\n",
        "    num = int(input(\"Enter a number: \"))\n",
        "    result = 10 / num\n",
        "    print(\"Result:\", result)\n",
        "except Exception as e:\n",
        "    print(f\"An error occurred: {e}\")\n"
      ],
      "metadata": {
        "colab": {
          "base_uri": "https://localhost:8080/"
        },
        "id": "CYUw3W6TtCG8",
        "outputId": "5b485808-19ca-4e72-9689-f53b785d157a"
      },
      "execution_count": 21,
      "outputs": [
        {
          "output_type": "stream",
          "name": "stdout",
          "text": [
            "Enter a number: -25\n",
            "Result: -0.4\n"
          ]
        }
      ]
    }
  ]
}