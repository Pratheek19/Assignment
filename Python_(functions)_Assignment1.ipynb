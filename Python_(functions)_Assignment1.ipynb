{
  "nbformat": 4,
  "nbformat_minor": 0,
  "metadata": {
    "colab": {
      "provenance": [],
      "authorship_tag": "ABX9TyPl3084YKP3xsbv6wzYmRil",
      "include_colab_link": true
    },
    "kernelspec": {
      "name": "python3",
      "display_name": "Python 3"
    },
    "language_info": {
      "name": "python"
    }
  },
  "cells": [
    {
      "cell_type": "markdown",
      "metadata": {
        "id": "view-in-github",
        "colab_type": "text"
      },
      "source": [
        "<a href=\"https://colab.research.google.com/github/Pratheek19/Assignment/blob/main/Python_(functions)_Assignment1.ipynb\" target=\"_parent\"><img src=\"https://colab.research.google.com/assets/colab-badge.svg\" alt=\"Open In Colab\"/></a>"
      ]
    },
    {
      "cell_type": "markdown",
      "source": [
        "1. In Python, what is the difference between a built-in function and a user-defined function? Provide an\n",
        "example of each.\n",
        "\n",
        "ANS:\n",
        "\n",
        "Built-in function are predefined functions which are stored inside python by developer and we cannot modify these functions. print(), len(), sum(), max(), min() ..etc\n",
        "\n",
        "User defined functions are created by the programmer to perform specific tasks or operations. user-defined functions have names chosen by the programmer and can take input arguments and return values.\n",
        "\n",
        "Example:\n",
        "\n",
        "\n"
      ],
      "metadata": {
        "id": "s9MzbeZ82EqU"
      }
    },
    {
      "cell_type": "code",
      "source": [
        "def addition(First_int, Last_int): # Addition is user defined function\n",
        "  Add = First_int + Last_int\n",
        "  return Add\n",
        "\n",
        "result = addition(5,5)\n",
        "print(\"Additon of two Integer is : \", result) # print(.....) is built-in function"
      ],
      "metadata": {
        "colab": {
          "base_uri": "https://localhost:8080/"
        },
        "id": "hb54Xia23W_h",
        "outputId": "7c0f163c-bfeb-42a1-fbeb-8ac0e410861a"
      },
      "execution_count": 6,
      "outputs": [
        {
          "output_type": "stream",
          "name": "stdout",
          "text": [
            "Additon of two Integer is :  10\n"
          ]
        }
      ]
    },
    {
      "cell_type": "markdown",
      "source": [
        "2. How can you pass arguments to a function in Python? Explain the difference between positional arguments and keyword arguments.\n",
        "\n",
        "ANS:\n",
        "\n",
        "There are two main ways to pass arguments to a function: positional arguments and keyword arguments.\n",
        "\n",
        "Positional Arguments:\n",
        "Positional arguments are the most basic way of passing arguments to a function. They are defined in the function's parameter list, and their values are matched to the function parameters based on their position. When calling a function with positional arguments, the values are assigned to the parameters in the order they appear in the function's parameter list.\n",
        "\n"
      ],
      "metadata": {
        "id": "d63fWvbK5Aqu"
      }
    },
    {
      "cell_type": "code",
      "source": [
        "def add_numbers(a, b):\n",
        "    return a + b\n",
        "\n",
        "result = add_numbers(3, 5)\n",
        "print(result)"
      ],
      "metadata": {
        "id": "xmceQhQm4Ilx"
      },
      "execution_count": null,
      "outputs": []
    },
    {
      "cell_type": "markdown",
      "source": [
        "Keyword Arguments:\n",
        "Keyword arguments are passed to a function using the name of the parameter as a key and the value you want to assign to that parameter. This allows you to pass arguments to the function in any order, making the code more readable and less prone to errors if you have many parameters."
      ],
      "metadata": {
        "id": "PwWpi9XOA1_B"
      }
    },
    {
      "cell_type": "code",
      "source": [
        "def emp_info(name, age, country):\n",
        "    print(f\"Name: {name}, Age: {age}, Country: {country}\")\n",
        "\n",
        "emp_info(name=\"Ron\", age=30, country=\"Canada\")\n",
        "emp_info(country=\"India\", name=\"Jill\", age=25)"
      ],
      "metadata": {
        "id": "kYGUUpo2A4bW"
      },
      "execution_count": null,
      "outputs": []
    },
    {
      "cell_type": "markdown",
      "source": [
        "3. What is the purpose of the return statement in a function? Can a function have multiple return\n",
        "statements? Explain with an example.\n",
        "\n",
        "ANS:\n",
        "\n",
        "The return statement in a function is used to specify the value that the function will produce or \"return\" when it is called. It marks the end of the function's execution and passes the specified value back to the code that called the function.\n",
        "\n",
        "Yes, a function can have multiple return statements.\n"
      ],
      "metadata": {
        "id": "SrGCHqYPA6Sl"
      }
    },
    {
      "cell_type": "code",
      "source": [
        "def check_number(num):\n",
        "    if num > 0:\n",
        "        return \"Positive\"\n",
        "    elif num < 0:\n",
        "        return \"Negative\"\n",
        "    else:\n",
        "        return \"Zero\"\n",
        "\n",
        "print(check_number(5))\n",
        "print(check_number(-3))\n",
        "print(check_number(0))\n"
      ],
      "metadata": {
        "colab": {
          "base_uri": "https://localhost:8080/"
        },
        "id": "zP9aXIq5BZ-0",
        "outputId": "14d52ce7-6513-459f-ffb7-9ca439eaf4b0"
      },
      "execution_count": 2,
      "outputs": [
        {
          "output_type": "stream",
          "name": "stdout",
          "text": [
            "Positive\n",
            "Negative\n",
            "Zero\n"
          ]
        }
      ]
    },
    {
      "cell_type": "markdown",
      "source": [
        "4. What are lambda functions in Python? How are they different from regular functions? Provide an\n",
        "example where a lambda function can be useful.\n",
        "\n",
        "\n",
        "ANS:\n",
        "\n",
        "A lambda function is a small anonymous function. It is defined using the 'lambda' keyword, followed by a list of arguments, a colon ':' and an expression. The lambda function can take any number of arguments but can only have one expression. When the lambda function is called, it evaluates the expression and returns the result. Lambda functions are often used for short and simple operations.\n",
        "--> Anonymous: used for quick and one time task.\n",
        "--> Single Expression: They can have only one expression with mutiple statements and return as well.\n",
        "--> No Statements: They cannot contain statements like print, if, for etc\n",
        "--> Functional Programming\n",
        "\n"
      ],
      "metadata": {
        "id": "UDN065aCBlHk"
      }
    },
    {
      "cell_type": "code",
      "source": [
        "def square(x):\n",
        "    return x ** 2  # normal function with return\n",
        "\n",
        "square_lambda = lambda x: x ** 2 # lambda function\n",
        "\n",
        "print(square(5))\n",
        "print(square_lambda(5))"
      ],
      "metadata": {
        "colab": {
          "base_uri": "https://localhost:8080/"
        },
        "id": "dvgq3lFoCwM7",
        "outputId": "7fd2803d-d4ed-4a59-d657-843614a7c552"
      },
      "execution_count": 3,
      "outputs": [
        {
          "output_type": "stream",
          "name": "stdout",
          "text": [
            "25\n",
            "25\n"
          ]
        }
      ]
    },
    {
      "cell_type": "markdown",
      "source": [
        "5. How does the concept of \"scope\" apply to functions in Python? Explain the difference between local\n",
        "scope and global scope.\n",
        "\n",
        "ANS:\n",
        "\"scope\" refers to the region in a program where a particular variable is accessible. It determines the visibility and lifetime of variables within the code.\n",
        "\n",
        "\n",
        "\n",
        "Local Scope:\n",
        "\n",
        "Variables defined inside a function have local scope. They are only accessible within the function where they are defined.\n",
        "Local variables are created when the function is called and destroyed when the function returns or completes its execution.\n",
        "Local scope prevents naming conflicts between variables inside different functions since each function has its own local namespace.\n",
        "\n",
        "\n",
        "Global Scope:\n",
        "\n",
        "Variables defined outside of any function or at the module level have global scope. They can be accessed from anywhere within the module.\n",
        "Global variables are created when the program starts and destroyed when the program ends.\n",
        "Global scope allows variables to be shared across multiple functions within the same module.\n"
      ],
      "metadata": {
        "id": "Ehv7GT_qC8my"
      }
    },
    {
      "cell_type": "markdown",
      "source": [
        "6. How can you use the \"return\" statement in a Python function to return multiple values?\n",
        "\n"
      ],
      "metadata": {
        "id": "hrDtj_ORC-vB"
      }
    },
    {
      "cell_type": "code",
      "source": [
        "def check_number(num):\n",
        "    if num > 0:\n",
        "        return \"Positive\"\n",
        "    elif num < 0:\n",
        "        return \"Negative\"\n",
        "    else:\n",
        "        return \"Zero\"\n",
        "\n",
        "print(check_number(5))\n",
        "print(check_number(-3))\n",
        "print(check_number(0))\n"
      ],
      "metadata": {
        "colab": {
          "base_uri": "https://localhost:8080/"
        },
        "id": "2hJqMwCBDm0g",
        "outputId": "6dc0fc38-b7f1-45e5-bc57-1b98b5696bc4"
      },
      "execution_count": 4,
      "outputs": [
        {
          "output_type": "stream",
          "name": "stdout",
          "text": [
            "Positive\n",
            "Negative\n",
            "Zero\n"
          ]
        }
      ]
    },
    {
      "cell_type": "markdown",
      "source": [],
      "metadata": {
        "id": "VSAYyx1hDpRA"
      }
    },
    {
      "cell_type": "markdown",
      "source": [
        "7. What is the difference between the \"pass by value\" and \"pass by reference\" concepts when it\n",
        "comes to function arguments in Python?\n",
        "\n",
        "\n",
        "ANS:\n",
        "\n",
        "Pass by Value:\n",
        "when a function is called, the value of the actual argument (the variable in the calling code) is copied into the parameter of the function.\n",
        "Changes made to the parameter inside the function do not affect the original variable in the calling code because they are working with different memory locations.\n",
        "\n",
        "Pass by Reference:\n",
        "when a function is called, the memory address (reference) of the actual argument is passed to the parameter of the function.\n",
        "Any changes made to the parameter inside the function directly affect the original variable in the calling code because they are referring to the same memory location.\n",
        "\n",
        "\n"
      ],
      "metadata": {
        "id": "EAKqQjZ9DqZw"
      }
    },
    {
      "cell_type": "markdown",
      "source": [
        "8. Create a function that can intake integer or decimal value and do following operations:\n",
        "\n",
        "a. Logarithmic function (log x)\n",
        "b. Exponential function (exp(x))\n",
        "c. Power function with base 2 (2**x)\n",
        "d. Square root\n",
        "\n",
        "ANS:\n",
        "\n"
      ],
      "metadata": {
        "id": "Hz_PnOuxHYfx"
      }
    },
    {
      "cell_type": "code",
      "source": [
        "import math\n",
        "\n",
        "def math_op(number):\n",
        "    # Logarithmic function (log x)\n",
        "    log_result = math.log(number)\n",
        "\n",
        "    # Exponential function (exp(x))\n",
        "    exp_result = math.exp(number)\n",
        "\n",
        "    # Power function with base 2 (2^x)\n",
        "    power_result = math.pow(2, number)\n",
        "\n",
        "    # Square root\n",
        "    sqrt_result = math.sqrt(number)\n",
        "\n",
        "    return log_result, exp_result, power_result, sqrt_result\n",
        "\n",
        "# Test the function\n",
        "input_number = 5.0\n",
        "log_result, exp_result, power_result, sqrt_result = math_op(input_number)\n",
        "print(f\"Logarithmic function (log {input_number}): {log_result}\")\n",
        "print(f\"Exponential function (exp {input_number}): {exp_result}\")\n",
        "print(f\"Power function with base 2 (2^{input_number}): {power_result}\")\n",
        "print(f\"Square root of {input_number}: {sqrt_result}\")\n"
      ],
      "metadata": {
        "colab": {
          "base_uri": "https://localhost:8080/"
        },
        "id": "5bsittOfH2P4",
        "outputId": "3dbc583a-295b-4e9b-d4a6-2636760bb060"
      },
      "execution_count": 23,
      "outputs": [
        {
          "output_type": "stream",
          "name": "stdout",
          "text": [
            "Logarithmic function (log 5.0): 1.6094379124341003\n",
            "Exponential function (exp 5.0): 148.4131591025766\n",
            "Power function with base 2 (2^5.0): 32.0\n",
            "Square root of 5.0: 2.23606797749979\n"
          ]
        }
      ]
    },
    {
      "cell_type": "markdown",
      "source": [
        "9. Create a function that takes a full name as an argument and returns first name and last name.\n",
        "\n",
        "ANS:\n",
        "\n"
      ],
      "metadata": {
        "id": "VAwE3whkP_s2"
      }
    },
    {
      "cell_type": "code",
      "source": [
        "def extract_first_last_name(full_name):\n",
        "\n",
        "  name_parts=full_name.split()\n",
        "\n",
        "  first_name= name_parts[0]\n",
        "  last_name= name_parts[1]\n",
        "\n",
        "  return first_name, last_name\n",
        "\n",
        "full_name = \"pratheek bheemaiah\"\n",
        "first_name, last_name = extract_first_last_name(full_name)\n",
        "print (f\" full name : {full_name}\")\n",
        "print (f\" first name : {first_name}\")\n",
        "print (f\" last name : {last_name}\")"
      ],
      "metadata": {
        "colab": {
          "base_uri": "https://localhost:8080/"
        },
        "id": "tAucM7WPQb5H",
        "outputId": "f250a867-ead4-4848-aa70-97c0059c8195"
      },
      "execution_count": 34,
      "outputs": [
        {
          "output_type": "stream",
          "name": "stdout",
          "text": [
            " full name : pratheek bheemaiah\n",
            " first name : pratheek\n",
            " last name : bheemaiah\n"
          ]
        }
      ]
    }
  ]
}