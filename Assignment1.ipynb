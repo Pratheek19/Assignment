{
  "nbformat": 4,
  "nbformat_minor": 0,
  "metadata": {
    "colab": {
      "provenance": [],
      "authorship_tag": "ABX9TyOsglROuPUt8/SNAm2PHerQ",
      "include_colab_link": true
    },
    "kernelspec": {
      "name": "python3",
      "display_name": "Python 3"
    },
    "language_info": {
      "name": "python"
    }
  },
  "cells": [
    {
      "cell_type": "markdown",
      "metadata": {
        "id": "view-in-github",
        "colab_type": "text"
      },
      "source": [
        "<a href=\"https://colab.research.google.com/github/Pratheek19/Assignment/blob/main/Assignment1.ipynb\" target=\"_parent\"><img src=\"https://colab.research.google.com/assets/colab-badge.svg\" alt=\"Open In Colab\"/></a>"
      ]
    },
    {
      "cell_type": "markdown",
      "source": [
        "1. In the below elements which of them are values or an expression? eg:- values can be integer or string and expressions will be mathematical operators.\n",
        "*\n",
        "'hello'\n",
        "-87.8\n",
        "-\n",
        "/\n",
        "+\n",
        "6\n"
      ],
      "metadata": {
        "id": "_T2bed0nD2Io"
      }
    },
    {
      "cell_type": "markdown",
      "source": [
        "ANS:-\n",
        "‘*’,  ‘-’, ’/’, ’+’ - Expressions\n",
        "'Hello' - string values\n",
        "-87.8 - float values\n",
        "6 - int values\n"
      ],
      "metadata": {
        "id": "jCJOG4mcD4yv"
      }
    },
    {
      "cell_type": "markdown",
      "source": [
        "2. What is the difference between string and variable?"
      ],
      "metadata": {
        "id": "7GfygPClEDl-"
      }
    },
    {
      "cell_type": "markdown",
      "source": [
        "The string is used to represent characters, such as letters, digits, and symbols. Strings are enclosed in quotation marks (single or double) to distinguish them from other types. For example, \"Hello, World!\" and \"12345\" are strings.\n",
        "\n",
        "A variable, on the other hand, is a named storage location that holds a value. Variables are used to store and manipulate different types of data, including strings.For example:  name = \"John Doe\", name is a variable that holds the string value \"John Doe\".\n",
        "\n",
        "Variable :- Variables store values\n",
        "Strings are written as  :- “ Hello”\n",
        "Variable  are  :- Hello = 235\n"
      ],
      "metadata": {
        "id": "TiY2T5muEFsv"
      }
    },
    {
      "cell_type": "markdown",
      "source": [
        "3. Describe three different data types.\n",
        "\n",
        "Integer (int):\n",
        "The integer represents whole numbers without any fractional or decimal part. Integers can be positive or negative. For example, 0, -5, and 10 are integers.\n",
        "\n",
        "String:\n",
        "The string is used to represent characters, such as letters, digits, and symbols. Strings are enclosed in quotation marks (single or double) to distinguish them from other types. For example, \"Hello, World!\" and \"12345\" are strings.\n",
        "\n",
        "Boolean:\n",
        "The boolean represents a logical value that can be either true or false. Booleans are used for expressing conditions, making decisions, and controlling the flow of a program. For example, a boolean variable can store the value true if a condition is met and false if it is not.example :- (if-else) and loops.\n"
      ],
      "metadata": {
        "id": "6Tph4tB8EYiG"
      }
    },
    {
      "cell_type": "markdown",
      "source": [
        "4. What is an expression made up of? What do all expressions do?\n",
        "\n",
        "ANS:-\n",
        "An Expression is made up of variables, operators, Function call elements and reserved words which perform specific tasks.\n",
        "x + y ,\n",
        "x == y ,\n",
        "x and y... etc\n",
        "\n",
        "The primary purpose of an expression is to compute a value. When an expression is evaluated, it undergoes a process of calculation and produces a result based on the values of its components (literals, variables, operators, and function calls).\n"
      ],
      "metadata": {
        "id": "N7aJqvzXEo8X"
      }
    },
    {
      "cell_type": "markdown",
      "source": [
        "5. These assignment statements, like spam = 10. What is the difference between an expression and a statement?\n",
        "\n",
        "Here, Spam = 10 represents a value (10)  being assigned to a variable (spam) using assignment operator (=). The combination of values, expression and variable creates a statement which becomes  executable code in a program.\n",
        "\n",
        "Expression:- An expression is a combination of one or more values, variables, operators, and function calls that can be evaluated to produce a result.\n",
        "\n",
        "Statement:- A statement, on the other hand, is a complete instruction or action that performs a specific task. It represents an executable unit of code that can change the state of a program,"
      ],
      "metadata": {
        "id": "dOgZgFU0F-Jj"
      }
    },
    {
      "cell_type": "markdown",
      "source": [
        "6. After running the following code, what does the variable bacon contain?\n",
        "bacon = 22\n",
        "bacon + 1\n",
        "\n",
        "Ans:- 23\n"
      ],
      "metadata": {
        "id": "l0BmYJGAGeDj"
      }
    },
    {
      "cell_type": "code",
      "source": [
        "bacon = 22\n",
        "bacon + 1\n",
        "\n",
        "\n"
      ],
      "metadata": {
        "colab": {
          "base_uri": "https://localhost:8080/"
        },
        "id": "IqCEDCGOGrXS",
        "outputId": "1852db85-c67a-4625-f56b-0293bb4c9b74"
      },
      "execution_count": 3,
      "outputs": [
        {
          "output_type": "execute_result",
          "data": {
            "text/plain": [
              "23"
            ]
          },
          "metadata": {},
          "execution_count": 3
        }
      ]
    },
    {
      "cell_type": "markdown",
      "source": [
        "7. What should the values of the following two terms be?\n",
        "\n",
        "'spam' + 'spamspam'\n",
        "\n",
        "'spam' * 3\n"
      ],
      "metadata": {
        "id": "8aLFRCQXHOoX"
      }
    },
    {
      "cell_type": "code",
      "source": [
        "'spam' + 'spamspam'"
      ],
      "metadata": {
        "colab": {
          "base_uri": "https://localhost:8080/",
          "height": 35
        },
        "id": "NCCNZ0ydHQCn",
        "outputId": "226b58e8-36b4-4952-f620-aaca084f8b70"
      },
      "execution_count": 4,
      "outputs": [
        {
          "output_type": "execute_result",
          "data": {
            "text/plain": [
              "'spamspamspam'"
            ],
            "application/vnd.google.colaboratory.intrinsic+json": {
              "type": "string"
            }
          },
          "metadata": {},
          "execution_count": 4
        }
      ]
    },
    {
      "cell_type": "code",
      "source": [
        "'spam' * 3"
      ],
      "metadata": {
        "colab": {
          "base_uri": "https://localhost:8080/",
          "height": 35
        },
        "id": "z3x3I20yHcC3",
        "outputId": "cb247017-b708-4613-e8c7-c8d65765c3fd"
      },
      "execution_count": 5,
      "outputs": [
        {
          "output_type": "execute_result",
          "data": {
            "text/plain": [
              "'spamspamspam'"
            ],
            "application/vnd.google.colaboratory.intrinsic+json": {
              "type": "string"
            }
          },
          "metadata": {},
          "execution_count": 5
        }
      ]
    },
    {
      "cell_type": "markdown",
      "source": [
        "8. Why is eggs a valid variable name while 100 is invalid?\n"
      ],
      "metadata": {
        "id": "wAGCfUlsHmJP"
      }
    },
    {
      "cell_type": "markdown",
      "source": [
        "ANS:-\n",
        "Eggs are string and 100 is integer. \"100\" would not be a valid variable name because it starts with a digit. Variable name must always start with a alphabet or _ underscore"
      ],
      "metadata": {
        "id": "ZSa5NVnAHomn"
      }
    },
    {
      "cell_type": "markdown",
      "source": [
        "9. What three functions can be used to get the integer, floating-point number, or string version of a value?\n",
        "\n",
        "ANS:-\n",
        "int()\n",
        "\n",
        "Float()\n",
        "\n",
        "str()\n"
      ],
      "metadata": {
        "id": "FFMFBBAaH7BO"
      }
    },
    {
      "cell_type": "markdown",
      "source": [
        "10. Why does this expression cause an error? How can you fix it?\n",
        "\n",
        "'I have eaten ' + 99 + ' burritos.'"
      ],
      "metadata": {
        "id": "1W2ibYX2I23s"
      }
    },
    {
      "cell_type": "markdown",
      "source": [
        "ANS:-\n",
        "We cannot add an integer to a string. In order to add we need to do type conversion as shown below.\n",
        "\n"
      ],
      "metadata": {
        "id": "eYI7WkXxI5Qc"
      }
    },
    {
      "cell_type": "code",
      "source": [
        "I = 'I have eaten ' + str(99) + ' burritos.'"
      ],
      "metadata": {
        "id": "HMINMUBTJMKD"
      },
      "execution_count": 15,
      "outputs": []
    },
    {
      "cell_type": "code",
      "source": [
        "I"
      ],
      "metadata": {
        "colab": {
          "base_uri": "https://localhost:8080/",
          "height": 35
        },
        "id": "yO0eEiCIJR9D",
        "outputId": "b96918ea-a8c4-4ddd-aa4c-58a11c4743a5"
      },
      "execution_count": 16,
      "outputs": [
        {
          "output_type": "execute_result",
          "data": {
            "text/plain": [
              "'I have eaten 99 burritos.'"
            ],
            "application/vnd.google.colaboratory.intrinsic+json": {
              "type": "string"
            }
          },
          "metadata": {},
          "execution_count": 16
        }
      ]
    },
    {
      "cell_type": "code",
      "source": [],
      "metadata": {
        "id": "Cx6paNjjJTQT"
      },
      "execution_count": null,
      "outputs": []
    }
  ]
}