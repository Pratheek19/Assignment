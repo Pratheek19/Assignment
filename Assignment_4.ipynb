{
  "nbformat": 4,
  "nbformat_minor": 0,
  "metadata": {
    "colab": {
      "provenance": [],
      "authorship_tag": "ABX9TyO4SdtQbU9V9AV1EJx2wkqy",
      "include_colab_link": true
    },
    "kernelspec": {
      "name": "python3",
      "display_name": "Python 3"
    },
    "language_info": {
      "name": "python"
    }
  },
  "cells": [
    {
      "cell_type": "markdown",
      "metadata": {
        "id": "view-in-github",
        "colab_type": "text"
      },
      "source": [
        "<a href=\"https://colab.research.google.com/github/Pratheek19/Assignment/blob/main/Assignment_4.ipynb\" target=\"_parent\"><img src=\"https://colab.research.google.com/assets/colab-badge.svg\" alt=\"Open In Colab\"/></a>"
      ]
    },
    {
      "cell_type": "markdown",
      "source": [
        "1. What exactly is []?\n",
        "\n",
        "Ans:\n",
        "\n",
        "[] is a empty list which contains no value."
      ],
      "metadata": {
        "id": "Fpvrg9dX7DqX"
      }
    },
    {
      "cell_type": "markdown",
      "source": [
        "2. In a list of values stored in a variable called spam, how would you assign the value 'hello'; as the\n",
        "third value? (Assume [2, 4, 6, 8, 10] are in spam.)\n",
        "\n",
        "ANS:\n",
        "\n"
      ],
      "metadata": {
        "id": "k2YbXd9A7T0f"
      }
    },
    {
      "cell_type": "code",
      "source": [
        "L = [2,4,6,8,10]\n",
        "L.insert(2, 'hello')\n",
        "\n",
        "\n",
        "L[2] = 'hello'"
      ],
      "metadata": {
        "id": "BNilqYH47cFk"
      },
      "execution_count": 25,
      "outputs": []
    },
    {
      "cell_type": "code",
      "source": [
        "L"
      ],
      "metadata": {
        "colab": {
          "base_uri": "https://localhost:8080/"
        },
        "id": "_HqoDxxQ7jcf",
        "outputId": "5385d3e1-0997-492c-a6ca-02362732bffa"
      },
      "execution_count": 26,
      "outputs": [
        {
          "output_type": "execute_result",
          "data": {
            "text/plain": [
              "[2, 4, 'hello', 6, 8, 10]"
            ]
          },
          "metadata": {},
          "execution_count": 26
        }
      ]
    },
    {
      "cell_type": "markdown",
      "source": [
        "Lets's  pretend the spam includes the list ['a','b','c','d'] for the next three queries.\n",
        "\n",
        "\n",
        "      3. What is the value of spam[int(int('3' * 2) / 11)]?\n",
        "      ANS: 'd'\n",
        "\n",
        "      4. What is the value of spam[-1]?\n",
        "\n",
        "      ANS: 'd'\n",
        "\n",
        "      5. What is the value of spam[:2]?\n",
        "\n",
        "      ANS: ['a', 'b']"
      ],
      "metadata": {
        "id": "V8nDEFn97-vk"
      }
    },
    {
      "cell_type": "code",
      "source": [
        "spam= ['a','b','c','d']\n",
        "spam[int(int('3' * 2) / 11)]\n"
      ],
      "metadata": {
        "colab": {
          "base_uri": "https://localhost:8080/",
          "height": 35
        },
        "id": "dA80m8l-8Yci",
        "outputId": "d8ac9026-6b6c-4b95-e8f4-886863dbf435"
      },
      "execution_count": 10,
      "outputs": [
        {
          "output_type": "execute_result",
          "data": {
            "text/plain": [
              "'d'"
            ],
            "application/vnd.google.colaboratory.intrinsic+json": {
              "type": "string"
            }
          },
          "metadata": {},
          "execution_count": 10
        }
      ]
    },
    {
      "cell_type": "code",
      "source": [
        "spam[-1]"
      ],
      "metadata": {
        "colab": {
          "base_uri": "https://localhost:8080/",
          "height": 35
        },
        "id": "FIa-762X8awS",
        "outputId": "abf2e953-2f3f-46b3-df8b-ebdb3c4c63b1"
      },
      "execution_count": 11,
      "outputs": [
        {
          "output_type": "execute_result",
          "data": {
            "text/plain": [
              "'d'"
            ],
            "application/vnd.google.colaboratory.intrinsic+json": {
              "type": "string"
            }
          },
          "metadata": {},
          "execution_count": 11
        }
      ]
    },
    {
      "cell_type": "code",
      "source": [
        "spam[:2]"
      ],
      "metadata": {
        "colab": {
          "base_uri": "https://localhost:8080/"
        },
        "id": "0o4jsdpa9PjH",
        "outputId": "a1b1d009-647d-4388-f777-c8db50963871"
      },
      "execution_count": 12,
      "outputs": [
        {
          "output_type": "execute_result",
          "data": {
            "text/plain": [
              "['a', 'b']"
            ]
          },
          "metadata": {},
          "execution_count": 12
        }
      ]
    },
    {
      "cell_type": "markdown",
      "source": [
        "Let's pretend bacon has the list [3.14, 'cat', 11, 'cat', True] for the next three questions.\n",
        "\n",
        "6. What is the value of bacon.index('cat')?\n",
        "\n",
        "ANS: 1\n",
        "\n",
        "\n",
        "7. How does bacon.append(99) change the look of the list value in bacon?\n",
        "\n",
        "ANS: [3.14, 'cat', 11, 'cat', True, 99]\n",
        "\n",
        "\n",
        "8. How does bacon.remove('cat') change the look of the list in bacon?\n",
        "\n",
        "ANS: [3.14, 11, 'cat', True, 99]\n",
        "\n"
      ],
      "metadata": {
        "id": "fzMV7Cgu9c0h"
      }
    },
    {
      "cell_type": "code",
      "source": [
        "bacon= [3.14, 'cat', 11, 'cat', True]"
      ],
      "metadata": {
        "id": "qpDRpacj92nn"
      },
      "execution_count": 18,
      "outputs": []
    },
    {
      "cell_type": "code",
      "source": [
        "bacon.index('cat')"
      ],
      "metadata": {
        "colab": {
          "base_uri": "https://localhost:8080/"
        },
        "id": "Ax6H6C6N94Fm",
        "outputId": "45d1adff-1177-444f-dece-732515852776"
      },
      "execution_count": 19,
      "outputs": [
        {
          "output_type": "execute_result",
          "data": {
            "text/plain": [
              "1"
            ]
          },
          "metadata": {},
          "execution_count": 19
        }
      ]
    },
    {
      "cell_type": "code",
      "source": [
        "bacon.append(99)"
      ],
      "metadata": {
        "id": "1lbUYKhg-JNO"
      },
      "execution_count": 20,
      "outputs": []
    },
    {
      "cell_type": "code",
      "source": [
        "bacon"
      ],
      "metadata": {
        "colab": {
          "base_uri": "https://localhost:8080/"
        },
        "id": "cVf0ZrHu-LkV",
        "outputId": "5936f153-72fd-42be-cc58-f4a7db06a044"
      },
      "execution_count": 21,
      "outputs": [
        {
          "output_type": "execute_result",
          "data": {
            "text/plain": [
              "[3.14, 'cat', 11, 'cat', True, 99]"
            ]
          },
          "metadata": {},
          "execution_count": 21
        }
      ]
    },
    {
      "cell_type": "code",
      "source": [
        "bacon.remove('cat')"
      ],
      "metadata": {
        "id": "LY-onoCY-X6N"
      },
      "execution_count": 22,
      "outputs": []
    },
    {
      "cell_type": "code",
      "source": [
        "bacon"
      ],
      "metadata": {
        "colab": {
          "base_uri": "https://localhost:8080/"
        },
        "id": "gdTHypDG-g-t",
        "outputId": "abee8fa8-6a19-46be-b346-1ffc14cb018b"
      },
      "execution_count": 23,
      "outputs": [
        {
          "output_type": "execute_result",
          "data": {
            "text/plain": [
              "[3.14, 11, 'cat', True, 99]"
            ]
          },
          "metadata": {},
          "execution_count": 23
        }
      ]
    },
    {
      "cell_type": "markdown",
      "source": [
        "9. What are the list concatenation and list replication operators?\n",
        "\n",
        "ANS:\n",
        "\n",
        "The operator for list concatenation is +, while the operator for replication is *."
      ],
      "metadata": {
        "id": "MfxIc6ai-4_2"
      }
    },
    {
      "cell_type": "markdown",
      "source": [
        "10. What is difference between the list methods append() and insert()?\n",
        "\n",
        "ANS:\n",
        "\n",
        "Append() : Inserts item at the very last of the list.\n",
        "\n",
        "insert() : Can add item to list at any index required by the user."
      ],
      "metadata": {
        "id": "_k3D9N-A_kVE"
      }
    },
    {
      "cell_type": "markdown",
      "source": [
        "11. What are the two methods for removing items from a list?\n",
        "\n",
        "ANS:\n",
        "\n",
        "l.remove()\n",
        "\n",
        "l.pop()\n",
        "\n"
      ],
      "metadata": {
        "id": "WDVE79q6_3K9"
      }
    },
    {
      "cell_type": "markdown",
      "source": [
        "12. Describe how list values and string values are identical.\n",
        "\n",
        "Both strings and lists have lengths: Each character in a string as well as each item in a list has a index.\n",
        "\n",
        "The main similarity between Strings and List is that in Python both are sequences. A string is a character's sequence between single or double quotations. A list is an item sequence in which each item could be anything such as a float, an integer, a string, etc\n",
        "\n",
        "\n",
        "\n"
      ],
      "metadata": {
        "id": "n2BprQYxAuOR"
      }
    },
    {
      "cell_type": "markdown",
      "source": [
        "13. What&#39;s the difference between tuples and lists?\n",
        "\n",
        "Lists are mutable:  they can have values added, removed, or changed.\n",
        "\n",
        "Tuples are immutable; they cannot be changed at all.\n",
        "\n",
        "Tuples are written using parentheses ( ). lists use the square brackets [ ].\n",
        "\n",
        "\n",
        "\n"
      ],
      "metadata": {
        "id": "8zs44Ou_CAh_"
      }
    },
    {
      "cell_type": "markdown",
      "source": [
        "14. How do you type a tuple value that only contains the integer 42?\n",
        "\n",
        "ANS:\n",
        "\n",
        "tuple= (42)\n",
        "\n"
      ],
      "metadata": {
        "id": "LPnOE5CJCVfu"
      }
    },
    {
      "cell_type": "markdown",
      "source": [
        "15. How do you get a list value's tuple form? How do you get a tuple value's list form?\n",
        "\n",
        "ANS:\n",
        "\n",
        "By using tuple()\n",
        "\n",
        " and list()\n",
        "\n"
      ],
      "metadata": {
        "id": "Bcr7DEPwCchO"
      }
    },
    {
      "cell_type": "markdown",
      "source": [
        "16. Variables that \"contain\" list values are not necessarily lists themselves. Instead, what do they contain?\n",
        "\n",
        "ANS:\n",
        "\n",
        "Instead they contain reference or variables of list values.\n",
        "\n"
      ],
      "metadata": {
        "id": "LL3XEvYdCrzG"
      }
    },
    {
      "cell_type": "markdown",
      "source": [
        "17. How do you distinguish between copy.copy() and copy.deepcopy()?\n",
        "\n",
        "ANS:\n",
        "\n",
        "The copy.copy() function will do a shallow copy of a list,So if we make any changes to the copy of the object will reflect in the original object.\n",
        "\n",
        " copy.deepcopy() function will do a deep copy of a list. That is, only copy.deepcopy() will duplicate any lists inside the list and also retain the original list as it is without making any changes."
      ],
      "metadata": {
        "id": "-FcBpaTgGB-m"
      }
    }
  ]
}