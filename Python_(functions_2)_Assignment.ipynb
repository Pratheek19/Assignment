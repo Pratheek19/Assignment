{
  "nbformat": 4,
  "nbformat_minor": 0,
  "metadata": {
    "colab": {
      "provenance": [],
      "authorship_tag": "ABX9TyMTFAne97hNzoiXDpDkzkPc",
      "include_colab_link": true
    },
    "kernelspec": {
      "name": "python3",
      "display_name": "Python 3"
    },
    "language_info": {
      "name": "python"
    }
  },
  "cells": [
    {
      "cell_type": "markdown",
      "metadata": {
        "id": "view-in-github",
        "colab_type": "text"
      },
      "source": [
        "<a href=\"https://colab.research.google.com/github/Pratheek19/Assignment/blob/main/Python_(functions_2)_Assignment.ipynb\" target=\"_parent\"><img src=\"https://colab.research.google.com/assets/colab-badge.svg\" alt=\"Open In Colab\"/></a>"
      ]
    },
    {
      "cell_type": "markdown",
      "source": [
        "1. What is a lambda function in Python, and how does it differ from a regular function?\n",
        "\n",
        "ANS:\n",
        "\n",
        "\n",
        "A lambda function is a small anonymous function. It is defined using the 'lambda' keyword, followed by a list of arguments, a colon ':' and an expression. The lambda function can take any number of arguments but can only have one expression. When the lambda function is called, it evaluates the expression and returns the result. Lambda functions are often used for short and simple operations. --> Anonymous: used for quick and one time task. --> Single Expression: They can have only one expression with mutiple statements and return as well. --> No Statements: They cannot contain statements like print, if, for etc --> Functional Programming"
      ],
      "metadata": {
        "id": "UN9tx_iAVLgz"
      }
    },
    {
      "cell_type": "code",
      "source": [
        "def square(x):\n",
        "    return x ** 2  # normal function with return\n",
        "\n",
        "square_lambda = lambda x: x ** 2 # lambda function\n",
        "\n",
        "print(square(5))\n",
        "print(square_lambda(5))"
      ],
      "metadata": {
        "colab": {
          "base_uri": "https://localhost:8080/"
        },
        "id": "HJiB70scVbcv",
        "outputId": "4bcffc36-50c4-4fbe-d5b3-08ece9395a1d"
      },
      "execution_count": 3,
      "outputs": [
        {
          "output_type": "stream",
          "name": "stdout",
          "text": [
            "25\n",
            "25\n"
          ]
        }
      ]
    },
    {
      "cell_type": "markdown",
      "source": [],
      "metadata": {
        "id": "BkUgQvi4W89n"
      }
    },
    {
      "cell_type": "markdown",
      "source": [
        "2. Can a lambda function in Python have multiple arguments? If yes, how can you define and use\n",
        "them?\n",
        "\n",
        "ANS:\n",
        "\n",
        "Yes, a lambda function in Python can have multiple arguments.\n",
        "\n"
      ],
      "metadata": {
        "id": "wur1mSs0VLtA"
      }
    },
    {
      "cell_type": "code",
      "source": [
        "#lambda function with three arguments\n",
        "multiply = lambda a, b, c: a * b * c\n",
        "\n",
        "# lambda function\n",
        "result = multiply(2, 3, 4)  # This will return 24\n",
        "print(result)"
      ],
      "metadata": {
        "colab": {
          "base_uri": "https://localhost:8080/"
        },
        "id": "ob5zJ97_WCb2",
        "outputId": "1c5d8ef3-c42c-40f7-c92e-06ba2cea18df"
      },
      "execution_count": 2,
      "outputs": [
        {
          "output_type": "stream",
          "name": "stdout",
          "text": [
            "24\n"
          ]
        }
      ]
    },
    {
      "cell_type": "markdown",
      "source": [
        "3. How are lambda functions typically used in Python? Provide an example use case.\n",
        "\n",
        "ANS:\n",
        "\n",
        "Lambda functions in Python are often used for short, simple operations where you don't want to define a full named function using the def keyword."
      ],
      "metadata": {
        "id": "4hpnJDwHWN-h"
      }
    },
    {
      "cell_type": "code",
      "source": [
        "numbers = [1, 2, 3, 4, 5, 6, 7, 8, 9, 10]\n",
        "\n",
        "# lambda function\n",
        "even_numbers = filter(lambda x: x % 2 == 0, numbers)\n",
        "\n",
        "even_numbers_list = list(even_numbers)\n",
        "\n",
        "print(even_numbers_list)"
      ],
      "metadata": {
        "colab": {
          "base_uri": "https://localhost:8080/"
        },
        "id": "suex0JKGWpTt",
        "outputId": "b392d76e-6931-4970-dddb-a97eb3c70727"
      },
      "execution_count": 1,
      "outputs": [
        {
          "output_type": "stream",
          "name": "stdout",
          "text": [
            "[2, 4, 6, 8, 10]\n"
          ]
        }
      ]
    },
    {
      "cell_type": "markdown",
      "source": [
        "4. What are the advantages and limitations of lambda functions compared to regular functions in\n",
        "Python?\n",
        "\n",
        "ANS:\n",
        "\n",
        "Readability: Lambda functions can make your code more readable when the operation being performed is short.\n",
        "\n",
        "Inline Usage: Lambda functions are often used inline, as arguments to other functions. This can lead to more compact and expressive code when you need to pass a simple function as an argument.\n",
        "\n",
        "No Need for Name: Since lambda functions don't require a separate name, they are suitable for small, temporary functions.\n",
        "\n",
        "Limitations of Lambda Functions:\n",
        "\n",
        "Single Expression: Lambda functions are restricted to a single expression.\n",
        "\n",
        "Limited Readability: More complex operations are often clearer when defined using the def keyword.\n",
        "\n",
        "Limited Use Cases: Lambda functions are most useful for small, isolated operations.\n",
        "\n",
        "Less Descriptive: Lambda functions lack the descriptive power of named functions.\n",
        "\n",
        "Debugging: Debugging lambda functions can be trickier compared to named functions.\n",
        "\n",
        "In summary, lambda functions are a great tool for simple, one-liner operations, especially when used as arguments to other functions."
      ],
      "metadata": {
        "id": "ToNIuXuvXAKr"
      }
    },
    {
      "cell_type": "markdown",
      "source": [
        "5. Are lambda functions in Python able to access variables defined outside of their own scope?\n",
        "Explain with an example.\n",
        "\n",
        "\n",
        "ANS:\n",
        "\n",
        "Yes, lambda functions in Python can access variables defined outside of their own scope."
      ],
      "metadata": {
        "id": "NlyiT2f8YDHt"
      }
    },
    {
      "cell_type": "code",
      "source": [
        "x = 10  # global variable\n",
        "\n",
        "def outer_function():\n",
        "    y = 5  # local variable\n",
        "\n",
        "    # lambda function inside the outer_function\n",
        "    inner_lambda = lambda a: a + x + y\n",
        "\n",
        "    return inner_lambda\n",
        "\n",
        "lambda_result = outer_function()\n",
        "\n",
        "print(lambda_result(3))"
      ],
      "metadata": {
        "colab": {
          "base_uri": "https://localhost:8080/"
        },
        "id": "dn9f3PS9YiPD",
        "outputId": "3501a6a7-f620-4cd7-f7a9-7a14d9912fbd"
      },
      "execution_count": 4,
      "outputs": [
        {
          "output_type": "stream",
          "name": "stdout",
          "text": [
            "18\n"
          ]
        }
      ]
    },
    {
      "cell_type": "markdown",
      "source": [
        "6. Write a lambda function to calculate the square of a given number.\n",
        "\n",
        "ANS:\n"
      ],
      "metadata": {
        "id": "c4Y9lQtBZKTb"
      }
    },
    {
      "cell_type": "code",
      "source": [
        "\n",
        "square_lambda = lambda x: x ** 2 # lambda function\n",
        "\n",
        "print(square_lambda(5))"
      ],
      "metadata": {
        "colab": {
          "base_uri": "https://localhost:8080/"
        },
        "id": "xf9o4qplZNx0",
        "outputId": "56e28a73-9dbc-4e9a-cb35-8cf2d424fa4c"
      },
      "execution_count": 7,
      "outputs": [
        {
          "output_type": "stream",
          "name": "stdout",
          "text": [
            "25\n"
          ]
        }
      ]
    },
    {
      "cell_type": "markdown",
      "source": [
        "7. Create a lambda function to find the maximum value in a list of integers.\n",
        "\n",
        "ANS:\n",
        "\n"
      ],
      "metadata": {
        "id": "gr8V-5QcZV7R"
      }
    },
    {
      "cell_type": "code",
      "source": [
        "# List of integers\n",
        "numbers = [34, 56, 81, 8, 178, 45, 83]\n",
        "\n",
        "# lambda function to find the maximum value\n",
        "find_max = lambda x: max(x)\n",
        "\n",
        "max_value = find_max(numbers)\n",
        "\n",
        "print(max_value)"
      ],
      "metadata": {
        "colab": {
          "base_uri": "https://localhost:8080/"
        },
        "id": "FaFOcbTiZaC5",
        "outputId": "284307ad-af54-4d21-d34d-34d6f2fdb520"
      },
      "execution_count": 9,
      "outputs": [
        {
          "output_type": "stream",
          "name": "stdout",
          "text": [
            "178\n"
          ]
        }
      ]
    },
    {
      "cell_type": "markdown",
      "source": [
        "8. Implement a lambda function to filter out all the even numbers from a list of integers.\n",
        "\n",
        "ANS:\n",
        "\n"
      ],
      "metadata": {
        "id": "wubWxMKWZ5tK"
      }
    },
    {
      "cell_type": "code",
      "source": [
        "numbers = [1, 2, 3, 4, 5, 6, 7, 8, 9, 10]\n",
        "\n",
        "# filter() with a lambda function\n",
        "even_numbers = filter(lambda x: x % 2 == 0, numbers)\n",
        "\n",
        "even_numbers_list = list(even_numbers)\n",
        "\n",
        "print(even_numbers_list)"
      ],
      "metadata": {
        "colab": {
          "base_uri": "https://localhost:8080/"
        },
        "id": "RUzzORYDZ8i_",
        "outputId": "d3965ab5-c576-4c53-a992-20ffc23dfddc"
      },
      "execution_count": 10,
      "outputs": [
        {
          "output_type": "stream",
          "name": "stdout",
          "text": [
            "[2, 4, 6, 8, 10]\n"
          ]
        }
      ]
    },
    {
      "cell_type": "markdown",
      "source": [
        "9. Write a lambda function to sort a list of strings in ascending order based on the length of each\n",
        "string.\n",
        "\n",
        "ANS:\n"
      ],
      "metadata": {
        "id": "M9oIHlAKaGWR"
      }
    },
    {
      "cell_type": "code",
      "source": [
        "# List of strings\n",
        "strings = [\"apple\", \"banana\", \"cherry\", \"date\", \"elderberry\"]\n",
        "\n",
        "# Lambda function\n",
        "sorted_strings = sorted(strings, key=lambda s: len(s))\n",
        "\n",
        "print(\"Sorted strings:\", sorted_strings)"
      ],
      "metadata": {
        "colab": {
          "base_uri": "https://localhost:8080/"
        },
        "id": "cvz4fOqeaI5e",
        "outputId": "b0ad6317-a720-4374-97c0-0e852007aaa3"
      },
      "execution_count": 11,
      "outputs": [
        {
          "output_type": "stream",
          "name": "stdout",
          "text": [
            "Sorted strings: ['date', 'apple', 'banana', 'cherry', 'elderberry']\n"
          ]
        }
      ]
    },
    {
      "cell_type": "markdown",
      "source": [
        "10. Create a lambda function that takes two lists as input and returns a new list containing the\n",
        "common elements between the two lists.\n",
        "\n",
        "ANS:\n",
        "\n"
      ],
      "metadata": {
        "id": "8tJ4ItYlaqQx"
      }
    },
    {
      "cell_type": "code",
      "source": [
        "#two lists\n",
        "list1 = [1, 2, 3, 4, 5]\n",
        "list2 = [4, 5, 6, 7, 8]\n",
        "\n",
        "# Lambda function\n",
        "common = lambda lst1, lst2: list(filter(lambda x: x in lst2, lst1))\n",
        "\n",
        "common_elements = common(list1, list2)\n",
        "\n",
        "print(common_elements)"
      ],
      "metadata": {
        "id": "hgBRLvTraueo"
      },
      "execution_count": null,
      "outputs": []
    },
    {
      "cell_type": "markdown",
      "source": [
        "11. Write a recursive function to calculate the factorial of a given positive integer.\n",
        "\n",
        "ANS:\n",
        "\n"
      ],
      "metadata": {
        "id": "n7PhPm6AbE8D"
      }
    },
    {
      "cell_type": "code",
      "source": [
        "def factorial(n):\n",
        "    if n == 0:\n",
        "        return 1\n",
        "    else:\n",
        "        return n * factorial(n - 1)\n",
        "\n",
        "number = 10\n",
        "result = factorial(number)\n",
        "print(f\"The factorial of {number} is {result}\")"
      ],
      "metadata": {
        "colab": {
          "base_uri": "https://localhost:8080/"
        },
        "id": "RNxN3mxHbHyd",
        "outputId": "003d7c94-15ec-4f82-df20-b1afdd039001"
      },
      "execution_count": 14,
      "outputs": [
        {
          "output_type": "stream",
          "name": "stdout",
          "text": [
            "The factorial of 10 is 3628800\n"
          ]
        }
      ]
    },
    {
      "cell_type": "markdown",
      "source": [
        "12. Implement a recursive function to compute the nth Fibonacci number.\n",
        "\n",
        "\n",
        "ANS:\n",
        "\n"
      ],
      "metadata": {
        "id": "M5EkqBkQb-ga"
      }
    },
    {
      "cell_type": "code",
      "source": [
        "def fibonacci(n):\n",
        "    if n <= 0:\n",
        "        return 0\n",
        "    elif n == 1:\n",
        "        return 1\n",
        "    else:\n",
        "        return fibonacci(n - 1) + fibonacci(n - 2)\n",
        "\n",
        "n = 7\n",
        "result = fibonacci(n)\n",
        "print(f\"The {n}th Fibonacci number is {result}\")"
      ],
      "metadata": {
        "colab": {
          "base_uri": "https://localhost:8080/"
        },
        "id": "dQEkTFnocDbf",
        "outputId": "18763087-c322-4ea5-a37b-3b49a15f621f"
      },
      "execution_count": 15,
      "outputs": [
        {
          "output_type": "stream",
          "name": "stdout",
          "text": [
            "The 7th Fibonacci number is 13\n"
          ]
        }
      ]
    },
    {
      "cell_type": "markdown",
      "source": [
        "13. Create a recursive function to find the sum of all the elements in a given list.\n",
        "\n",
        "ANS:\n",
        "\n"
      ],
      "metadata": {
        "id": "945kK2DFcZkI"
      }
    },
    {
      "cell_type": "code",
      "source": [
        "def recursive_sum(lst):\n",
        "    if not lst:\n",
        "        return 0\n",
        "    else:\n",
        "        return lst[0] + recursive_sum(lst[1:])\n",
        "\n",
        "# sum function\n",
        "numbers = [3, 6, 2, 8, 5]\n",
        "total_sum = recursive_sum(numbers)\n",
        "print(f\"The sum of the elements in the list is: {total_sum}\")"
      ],
      "metadata": {
        "colab": {
          "base_uri": "https://localhost:8080/"
        },
        "id": "ahscCu2qcbFG",
        "outputId": "8a113f31-50a9-461c-97a2-5d0372ab81a8"
      },
      "execution_count": 24,
      "outputs": [
        {
          "output_type": "stream",
          "name": "stdout",
          "text": [
            "The sum of the elements in the list is: 24\n"
          ]
        }
      ]
    },
    {
      "cell_type": "markdown",
      "source": [
        "14. Write a recursive function to determine whether a given string is a palindrome.\n",
        "\n",
        "ANS:\n",
        "\n"
      ],
      "metadata": {
        "id": "QzcysJ3SeCdN"
      }
    },
    {
      "cell_type": "code",
      "source": [
        "def palindrome(s):\n",
        "    if len(s) <= 1:\n",
        "        return True\n",
        "    elif s[0] != s[-1]:\n",
        "        return False\n",
        "    else:\n",
        "        return palindrome(s[1:-1])\n",
        "\n",
        "string1 = \"racecar\"\n",
        "string2 = \"python\"\n",
        "\n",
        "print(f\"'{string1}' is a palindrome: {palindrome(string1)}\")\n",
        "print(f\"'{string2}' is a palindrome: {palindrome(string2)}\")"
      ],
      "metadata": {
        "colab": {
          "base_uri": "https://localhost:8080/"
        },
        "id": "e09u8TxGeECA",
        "outputId": "281e0cc8-f8dc-4d7e-a741-abc44046730a"
      },
      "execution_count": 3,
      "outputs": [
        {
          "output_type": "stream",
          "name": "stdout",
          "text": [
            "'racecar' is a palindrome: True\n",
            "'python' is a palindrome: False\n"
          ]
        }
      ]
    },
    {
      "cell_type": "markdown",
      "source": [
        "15. Implement a recursive function to find the greatest common divisor (GCD) of two positive integers.\n",
        "\n",
        "ANS:\n",
        "\n"
      ],
      "metadata": {
        "id": "YfjBXbABJ7Br"
      }
    },
    {
      "cell_type": "code",
      "source": [
        "def GCD(a, b):\n",
        "    if b == 0:\n",
        "        return a\n",
        "    else:\n",
        "        return GCD(b, a % b)\n",
        "\n",
        "num1 = 94\n",
        "num2 = 18\n",
        "\n",
        "result = GCD(num1, num2)\n",
        "print(f\"The GCD of {num1} and {num2} is: {result}\")"
      ],
      "metadata": {
        "colab": {
          "base_uri": "https://localhost:8080/"
        },
        "id": "nNtzHh36J96d",
        "outputId": "f44160dd-924e-4245-d4aa-9414c3576735"
      },
      "execution_count": 7,
      "outputs": [
        {
          "output_type": "stream",
          "name": "stdout",
          "text": [
            "The GCD of 94 and 18 is: 2\n"
          ]
        }
      ]
    },
    {
      "cell_type": "code",
      "source": [],
      "metadata": {
        "id": "8M7K_VajKNNf"
      },
      "execution_count": null,
      "outputs": []
    }
  ]
}